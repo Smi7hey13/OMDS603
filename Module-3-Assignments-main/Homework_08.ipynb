{
 "cells": [
  {
   "cell_type": "markdown",
   "metadata": {},
   "source": [
    "## Homework 08: Classification\n",
    "\n",
    "**Due:** Midnight on July 6th, BUT no late points will be charged if you get it in by the last late deadline. \n",
    "\n",
    "### Overview\n",
    "\n",
    "In this final homework before starting our course project, we will introduce the essential machine learning paradigm of **classification**. We will work with the **UCI Adult** dataset. This is a binary classification task.\n",
    "\n",
    "As we’ve discussed in this week’s lessons, the classification workflow is similar to what we’ve done for regression, with a few key differences:\n",
    "- We use `StratifiedKFold` instead of plain `KFold` so that every fold keeps the original class proportions.\n",
    "- We use classification metrics (e.g., accuracy, precision, recall, F1-score for binary classification) instead of regression metrics.\n",
    "- We could explore misclassified instances through a confusion matrix (though we will not do that in this homework).\n",
    "\n",
    "For this assignment, you’ll build a gradient boosting classification using `HistGradientBoostingClassifier` (HGBC) and explore ways of tuning the hyperparameters, including using the technique of early stopping, which basically avoiding have to tune the number of estimators (called `max_iter` in HGBC). \n",
    "\n",
    "HGBC has many advantages, which we explain below. \n",
    "\n",
    "\n",
    "### Grading\n",
    "\n",
    "There are 7 graded problems, each worth 7 points, and you get 1 point free if you complete the assignment. "
   ]
  },
  {
   "cell_type": "code",
   "execution_count": 7,
   "metadata": {},
   "outputs": [
    {
     "name": "stdout",
     "output_type": "stream",
     "text": [
      "Collecting tqdm\n",
      "  Downloading tqdm-4.67.1-py3-none-any.whl.metadata (57 kB)\n",
      "Downloading tqdm-4.67.1-py3-none-any.whl (78 kB)\n",
      "Installing collected packages: tqdm\n",
      "\u001b[33m  WARNING: The script tqdm is installed in '/usr/local/python/3.12.1/bin' which is not on PATH.\n",
      "  Consider adding this directory to PATH or, if you prefer to suppress this warning, use --no-warn-script-location.\u001b[0m\u001b[33m\n",
      "\u001b[0mSuccessfully installed tqdm-4.67.1\n",
      "Note: you may need to restart the kernel to use updated packages.\n"
     ]
    }
   ],
   "source": [
    "pip install tqdm"
   ]
  },
  {
   "cell_type": "code",
   "execution_count": 9,
   "metadata": {},
   "outputs": [
    {
     "name": "stdout",
     "output_type": "stream",
     "text": [
      "Collecting optuna\n",
      "  Downloading optuna-4.4.0-py3-none-any.whl.metadata (17 kB)\n",
      "Collecting alembic>=1.5.0 (from optuna)\n",
      "  Downloading alembic-1.16.2-py3-none-any.whl.metadata (7.3 kB)\n",
      "Collecting colorlog (from optuna)\n",
      "  Downloading colorlog-6.9.0-py3-none-any.whl.metadata (10 kB)\n",
      "Requirement already satisfied: numpy in /home/codespace/.local/lib/python3.12/site-packages (from optuna) (2.2.6)\n",
      "Requirement already satisfied: packaging>=20.0 in /home/codespace/.local/lib/python3.12/site-packages (from optuna) (25.0)\n",
      "Collecting sqlalchemy>=1.4.2 (from optuna)\n",
      "  Downloading sqlalchemy-2.0.41-cp312-cp312-manylinux_2_17_x86_64.manylinux2014_x86_64.whl.metadata (9.6 kB)\n",
      "Requirement already satisfied: tqdm in /usr/local/python/3.12.1/lib/python3.12/site-packages (from optuna) (4.67.1)\n",
      "Requirement already satisfied: PyYAML in /home/codespace/.local/lib/python3.12/site-packages (from optuna) (6.0.2)\n",
      "Collecting Mako (from alembic>=1.5.0->optuna)\n",
      "  Downloading mako-1.3.10-py3-none-any.whl.metadata (2.9 kB)\n",
      "Requirement already satisfied: typing-extensions>=4.12 in /home/codespace/.local/lib/python3.12/site-packages (from alembic>=1.5.0->optuna) (4.13.2)\n",
      "Collecting greenlet>=1 (from sqlalchemy>=1.4.2->optuna)\n",
      "  Downloading greenlet-3.2.3-cp312-cp312-manylinux_2_24_x86_64.manylinux_2_28_x86_64.whl.metadata (4.1 kB)\n",
      "Requirement already satisfied: MarkupSafe>=0.9.2 in /home/codespace/.local/lib/python3.12/site-packages (from Mako->alembic>=1.5.0->optuna) (3.0.2)\n",
      "Downloading optuna-4.4.0-py3-none-any.whl (395 kB)\n",
      "Downloading alembic-1.16.2-py3-none-any.whl (242 kB)\n",
      "Downloading sqlalchemy-2.0.41-cp312-cp312-manylinux_2_17_x86_64.manylinux2014_x86_64.whl (3.3 MB)\n",
      "\u001b[2K   \u001b[90m━━━━━━━━━━━━━━━━━━━━━━━━━━━━━━━━━━━━━━━━\u001b[0m \u001b[32m3.3/3.3 MB\u001b[0m \u001b[31m26.0 MB/s\u001b[0m eta \u001b[36m0:00:00\u001b[0m\n",
      "\u001b[?25hDownloading greenlet-3.2.3-cp312-cp312-manylinux_2_24_x86_64.manylinux_2_28_x86_64.whl (605 kB)\n",
      "\u001b[2K   \u001b[90m━━━━━━━━━━━━━━━━━━━━━━━━━━━━━━━━━━━━━━━━\u001b[0m \u001b[32m605.5/605.5 kB\u001b[0m \u001b[31m18.3 MB/s\u001b[0m eta \u001b[36m0:00:00\u001b[0m\n",
      "\u001b[?25hDownloading colorlog-6.9.0-py3-none-any.whl (11 kB)\n",
      "Downloading mako-1.3.10-py3-none-any.whl (78 kB)\n",
      "Installing collected packages: Mako, greenlet, colorlog, sqlalchemy, alembic, optuna\n",
      "\u001b[?25l\u001b[33m  WARNING: The script mako-render is installed in '/usr/local/python/3.12.1/bin' which is not on PATH.\n",
      "  Consider adding this directory to PATH or, if you prefer to suppress this warning, use --no-warn-script-location.\u001b[0m\u001b[33m\n",
      "\u001b[2K   \u001b[91m━━━━━━━━━━━━━━━━━━━━━━━━━━\u001b[0m\u001b[91m╸\u001b[0m\u001b[90m━━━━━━━━━━━━━\u001b[0m \u001b[32m4/6\u001b[0m [alembic]my]\u001b[33m  WARNING: The script alembic is installed in '/usr/local/python/3.12.1/bin' which is not on PATH.\n",
      "  Consider adding this directory to PATH or, if you prefer to suppress this warning, use --no-warn-script-location.\u001b[0m\u001b[33m\n",
      "\u001b[2K   \u001b[91m━━━━━━━━━━━━━━━━━━━━━━━━━━━━━━━━━\u001b[0m\u001b[90m╺\u001b[0m\u001b[90m━━━━━━\u001b[0m \u001b[32m5/6\u001b[0m [optuna]\u001b[33m  WARNING: The script optuna is installed in '/usr/local/python/3.12.1/bin' which is not on PATH.\n",
      "  Consider adding this directory to PATH or, if you prefer to suppress this warning, use --no-warn-script-location.\u001b[0m\u001b[33m\n",
      "\u001b[2K   \u001b[90m━━━━━━━━━━━━━━━━━━━━━━━━━━━━━━━━━━━━━━━━\u001b[0m \u001b[32m6/6\u001b[0m [optuna]\n",
      "\u001b[1A\u001b[2KSuccessfully installed Mako-1.3.10 alembic-1.16.2 colorlog-6.9.0 greenlet-3.2.3 optuna-4.4.0 sqlalchemy-2.0.41\n",
      "Note: you may need to restart the kernel to use updated packages.\n"
     ]
    }
   ],
   "source": [
    "pip install optuna"
   ]
  },
  {
   "cell_type": "code",
   "execution_count": 17,
   "metadata": {},
   "outputs": [],
   "source": [
    "# General utilities\n",
    "import os\n",
    "import io\n",
    "import time\n",
    "import zipfile\n",
    "import requests\n",
    "from collections import Counter\n",
    "\n",
    "# Data handling and visualization\n",
    "import numpy as np\n",
    "import pandas as pd\n",
    "import matplotlib.pyplot as plt\n",
    "from tqdm import tqdm\n",
    "from IPython.display import display\n",
    " \n",
    "# Data source\n",
    "from sklearn.datasets import fetch_openml\n",
    "\n",
    " \n",
    "# scikit-learn core tools \n",
    "from sklearn.model_selection import (\n",
    "    train_test_split,\n",
    "    cross_val_score,\n",
    "    StratifiedKFold,\n",
    "    RandomizedSearchCV\n",
    ")\n",
    "\n",
    "from sklearn.pipeline import Pipeline\n",
    "from sklearn.compose import ColumnTransformer\n",
    "from sklearn.preprocessing import OrdinalEncoder\n",
    "\n",
    " \n",
    "# Import model \n",
    "from sklearn.ensemble import HistGradientBoostingClassifier\n",
    " \n",
    "# Metrics\n",
    "from sklearn.metrics import balanced_accuracy_score, classification_report\n",
    " \n",
    "# Distributions for random search\n",
    "from scipy.stats import loguniform, randint, uniform\n",
    "\n",
    "# pandas dtypes helpers\n",
    "from pandas.api.types import is_numeric_dtype, is_categorical_dtype\n",
    "from pandas import CategoricalDtype\n",
    "\n",
    "# Optuna Hyperparameter Search tool    (may need to be installed)\n",
    "import optuna\n",
    "\n",
    "\n",
    "# Misc\n",
    "\n",
    "random_seed = 42\n",
    "\n",
    "def format_hms(seconds):\n",
    "    return time.strftime(\"%H:%M:%S\", time.gmtime(seconds))\n",
    "\n"
   ]
  },
  {
   "cell_type": "markdown",
   "metadata": {},
   "source": [
    "### Prelude 1: Load and Preprocess the UCI Adult Income Dataset\n",
    "\n",
    "- Load the dataset from sklearn\n",
    "- Preliminary EDA\n",
    "- Feature Engineering "
   ]
  },
  {
   "cell_type": "code",
   "execution_count": 18,
   "metadata": {},
   "outputs": [
    {
     "name": "stdout",
     "output_type": "stream",
     "text": [
      "<class 'pandas.core.frame.DataFrame'>\n",
      "RangeIndex: 48842 entries, 0 to 48841\n",
      "Data columns (total 15 columns):\n",
      " #   Column          Non-Null Count  Dtype   \n",
      "---  ------          --------------  -----   \n",
      " 0   age             48842 non-null  int64   \n",
      " 1   workclass       46043 non-null  category\n",
      " 2   fnlwgt          48842 non-null  int64   \n",
      " 3   education       48842 non-null  category\n",
      " 4   education-num   48842 non-null  int64   \n",
      " 5   marital-status  48842 non-null  category\n",
      " 6   occupation      46033 non-null  category\n",
      " 7   relationship    48842 non-null  category\n",
      " 8   race            48842 non-null  category\n",
      " 9   sex             48842 non-null  category\n",
      " 10  capital-gain    48842 non-null  int64   \n",
      " 11  capital-loss    48842 non-null  int64   \n",
      " 12  hours-per-week  48842 non-null  int64   \n",
      " 13  native-country  47985 non-null  category\n",
      " 14  class           48842 non-null  category\n",
      "dtypes: category(9), int64(6)\n",
      "memory usage: 2.7 MB\n"
     ]
    }
   ],
   "source": [
    "# Load and clean\n",
    "df = fetch_openml(name='adult', version=2, as_frame=True).frame\n",
    "\n",
    "df.replace(\"?\", np.nan, inplace=True)            # Some datasets use ? instead of Nan for missing data\n",
    "\n",
    "df.info()"
   ]
  },
  {
   "cell_type": "markdown",
   "metadata": {},
   "source": [
    "#### Check: Is the dataset imbalanced?"
   ]
  },
  {
   "cell_type": "code",
   "execution_count": 19,
   "metadata": {},
   "outputs": [
    {
     "name": "stdout",
     "output_type": "stream",
     "text": [
      "class\n",
      "<=50K    0.760718\n",
      ">50K     0.239282\n",
      "Name: proportion, dtype: float64\n"
     ]
    }
   ],
   "source": [
    "print(df['class'].value_counts(normalize=True))"
   ]
  },
  {
   "cell_type": "markdown",
   "metadata": {},
   "source": [
    "**YES:** It looks like this dataset is somewhat imbalanced. Therefore, we will \n",
    "1. Tell the model to compensate during training by setting `class_weight='balanced'` when defining the model;\n",
    "2. Evaluate it `balanced_accuracy` instead of `accuracy` and with class-aware metrics (precision, recall, F1); and\n",
    "3. [Optional] Adjust the probability threshold instead of relying on raw accuracy alone after examining the precision-recall trade-off you observe at 0.5.\n",
    "    "
   ]
  },
  {
   "cell_type": "markdown",
   "metadata": {},
   "source": [
    "### Feature Engineering\n",
    "\n",
    "Based on the considerations in **Appendix One**, we'll make the following changes to the dataset to facilitate training:\n",
    "\n",
    "\n",
    "1. Drop `fnlwgt` and `education`.   \n",
    "3. Replace `capital-gain` and `capital-loss` by their difference `capital_net` and add a log-scaled version `capital_net_log`.\n"
   ]
  },
  {
   "cell_type": "code",
   "execution_count": 20,
   "metadata": {},
   "outputs": [
    {
     "name": "stdout",
     "output_type": "stream",
     "text": [
      "<class 'pandas.core.frame.DataFrame'>\n",
      "RangeIndex: 48842 entries, 0 to 48841\n",
      "Data columns (total 13 columns):\n",
      " #   Column           Non-Null Count  Dtype   \n",
      "---  ------           --------------  -----   \n",
      " 0   age              48842 non-null  int64   \n",
      " 1   workclass        46043 non-null  category\n",
      " 2   education-num    48842 non-null  int64   \n",
      " 3   marital-status   48842 non-null  category\n",
      " 4   occupation       46033 non-null  category\n",
      " 5   relationship     48842 non-null  category\n",
      " 6   race             48842 non-null  category\n",
      " 7   sex              48842 non-null  category\n",
      " 8   hours-per-week   48842 non-null  int64   \n",
      " 9   native-country   47985 non-null  category\n",
      " 10  class            48842 non-null  category\n",
      " 11  capital_net      48842 non-null  int64   \n",
      " 12  capital_net_log  48842 non-null  float64 \n",
      "dtypes: category(8), float64(1), int64(4)\n",
      "memory usage: 2.2 MB\n"
     ]
    }
   ],
   "source": [
    "# Drop the survey-weight column\n",
    "df_eng = df.drop(columns=[\"fnlwgt\"])\n",
    "\n",
    "# Keep only the ordinal education feature\n",
    "df_eng = df_eng.drop(columns=[\"education\"])      # retain 'education-num'\n",
    "\n",
    "# Combine capital gains and losses, add a log-scaled variant\n",
    "df_eng[\"capital_net\"]     = df_eng[\"capital-gain\"] - df_eng[\"capital-loss\"]\n",
    "df_eng[\"capital_net_log\"] = np.log1p(df_eng[\"capital_net\"].clip(lower=0))\n",
    "df_eng = df_eng.drop(columns=[\"capital-gain\", \"capital-loss\"])\n",
    "\n",
    "# check\n",
    "df_eng.info()"
   ]
  },
  {
   "cell_type": "markdown",
   "metadata": {},
   "source": [
    "#### Separate target and split\n",
    "\n",
    "Create the feature set `X` and the target set `y` (using `class` as the target) and split the dataset into 80% training and 20% testing sets, making sure to stratify."
   ]
  },
  {
   "cell_type": "code",
   "execution_count": 21,
   "metadata": {},
   "outputs": [
    {
     "name": "stdout",
     "output_type": "stream",
     "text": [
      "Train: (39073, 12) (39073,)\n",
      "Test : (9769, 12) (9769,)\n"
     ]
    }
   ],
   "source": [
    "\n",
    "X = df_eng.drop(columns=[\"class\"])\n",
    "y = (df_eng[\"class\"] == \">50K\").astype(int)\n",
    "\n",
    "# Split (with stratification)\n",
    "X_train, X_test, y_train, y_test = train_test_split(\n",
    "    X, y,\n",
    "    test_size=0.2,\n",
    "    random_state=random_seed,\n",
    "    stratify=y                           # So same proportion of classes in train and test sets\n",
    ")\n",
    "\n",
    "print(\"Train:\", X_train.shape, y_train.shape)\n",
    "print(\"Test :\", X_test.shape,  y_test.shape)"
   ]
  },
  {
   "cell_type": "markdown",
   "metadata": {},
   "source": [
    "### Prelude 2: Create a data pipeline and the `HistGradientBoostingClassifier` model\n",
    "\n",
    "Histogram-based gradient boosting improves on the standard version by:\n",
    "\n",
    "* **Histogram splits:** bins each feature into ≤ `max_bins` quantiles (i.e., each bin is approximately the same size) and tests splits only between bins, slashing compute time and scaling to large data sets. Default for `max_bins` = 255. \n",
    "* **Native NaN handling:** treats missing values as their own bin—no imputation needed.\n",
    "* **Native Categorical Support**: accepts integer-encoded categories directly and tests “category c vs. all others” splits, eliminating one-hot blow-ups and fake orderings.\n",
    "* **Built-in early stopping:** stops training after no improvement in validation loss after `n_iter_no_change` rounds. `tol` defines \"improvement\" (default is 1e-7). \n",
    "* **Leaf shrinkage:** adds `l2_regularization`, which ridge-shrinks each leaf value (without changing tree shape) so tiny, noisy leaves have less effect.\n",
    "\n",
    ">**Summary:**  Histogram-based GB trades a tiny approximation error (binning) for a **huge speed-up** and adds extra conveniences, making it the preferred choice for large tabular data sets. Tuning workflow relies on **Early stopping** to stop training before overfitting occurs. "
   ]
  },
  {
   "cell_type": "code",
   "execution_count": 22,
   "metadata": {},
   "outputs": [],
   "source": [
    "# Define a baseline model \n",
    "\n",
    "HGBC_model = HistGradientBoostingClassifier(\n",
    "    # tree structure and learning rate\n",
    "    learning_rate=0.1,            # These 5 parameters are at defaults for our baseline training in Problem 1             \n",
    "    max_leaf_nodes=31,            # but will be tuned by randomized search in Problem 2 and Optuna in Problem 3               \n",
    "    max_depth=None,               \n",
    "    min_samples_leaf=20,          \n",
    "    l2_regularization=0.0,        \n",
    "\n",
    "    # bins and iteration\n",
    "    max_bins=255,                 # default\n",
    "    max_iter=500,                 # high enough for early stopping\n",
    "    early_stopping=True,\n",
    "    n_iter_no_change=20,\n",
    "    validation_fraction=0.2,      # 20% monitored for early stopping\n",
    "    tol=1e-7,                     # default tolerance for validation improvement\n",
    "\n",
    "    # class imbalance\n",
    "    class_weight=\"balanced\",\n",
    "\n",
    "    random_state=random_seed,\n",
    "    verbose=0\n",
    ")\n"
   ]
  },
  {
   "cell_type": "markdown",
   "metadata": {},
   "source": [
    "### Create a pipeline appropriate for HGBC \n",
    "\n",
    "**Why use a `Pipeline` instead of encoding in the dataset first?**\n",
    "\n",
    "* **Avoid data leakage.** In each CV fold, the `OrdinalEncoder` is refit only on that fold’s training data, so the validation split never influences the encoder.\n",
    "* **Single, reusable object.** The pipeline bundles preprocessing + model, letting you call `fit`/`predict` on raw data anywhere (CV, Optuna, production) with identical behavior.\n",
    "* **Compatible with search tools.** `cross_validate`, `GridSearchCV`, and Optuna expect an estimator that can be cloned and refit; a pipeline meets that requirement automatically.\n",
    "\n",
    "Put simply, the pipeline gives you leak-free evaluation and portable, hassle-free tuning without extra code.\n"
   ]
  },
  {
   "cell_type": "code",
   "execution_count": 23,
   "metadata": {},
   "outputs": [],
   "source": [
    "enc = OrdinalEncoder(\n",
    "    handle_unknown=\"use_encoded_value\",   # Allow unseen categories during transform\n",
    "    unknown_value=-1,                     # Code for unseen categories\n",
    "    encoded_missing_value=-2,             # Code for missing values (NaN)\n",
    "    dtype=np.int64                        # Needed for HistGradientBoostingClassifier\n",
    ")\n",
    "\n",
    "# Categorical features\n",
    "cat_cols = X.select_dtypes(exclude=[\"number\"]).columns.tolist()\n",
    "\n",
    "# Numeric features (everything that isn’t object / category)\n",
    "num_cols = X.select_dtypes(include=[\"number\"]).columns.tolist()\n",
    "\n",
    "preprocess = ColumnTransformer(\n",
    "    [(\"cat\", enc, cat_cols),\n",
    "     (\"num\", \"passthrough\", num_cols)]\n",
    ")\n",
    "\n",
    "pipelined_model = Pipeline([\n",
    "    (\"prep\", preprocess),\n",
    "    (\"gb\",   HGBC_model)\n",
    "])"
   ]
  },
  {
   "cell_type": "markdown",
   "metadata": {},
   "source": [
    "## Problem 1: Baseline Cross-Validation with F1\n",
    "\n",
    "In this problem, you will run a baseline cross-validation evaluation of your `HistGradientBoostingClassifier` pipeline, using `HGBC_model` defined above. \n",
    "\n",
    "**Background:**\n",
    "\n",
    "* Since the Adult dataset is imbalanced (about 24% positives, 76% negatives), accuracy alone is not reliable.\n",
    "* We will use the **F1 score** as the evaluation metric, since it balances precision (avoiding false positives) and recall (avoiding false negatives) in a single measure. This is a fairer metric for imbalanced classification, where both types of error matter.\n",
    "* We will apply **5-fold stratified cross-validation** to make sure each fold has the same proportion of the classes as the original dataset.\n",
    "* Repeated cross-validation is optional and not required here, because the Adult dataset is large and `HistGradientBoostingClassifier` is robust to small sampling differences. \n",
    "\n",
    "**Instructions:**\n",
    "\n",
    "1. Set up a `StratifiedKFold` cross-validation object with 5 splits, shuffling enabled, and `random_state=random_seed`.\n",
    "2. Use `cross_val_score` to estimate the mean F1 score and its standard deviation across the folds.\n",
    "3. Print out the mean and standard deviation of the F1 score, rounded to 4 decimal places.\n",
    "4. Answer the graded question.\n"
   ]
  },
  {
   "cell_type": "code",
   "execution_count": 26,
   "metadata": {},
   "outputs": [],
   "source": [
    "# Your code here\n",
    "\n",
    "cv = StratifiedKFold(n_splits=5, shuffle=True, random_state=random_seed)\n",
    "f1_scores = cross_val_score(pipelined_model, X, y, cv=cv, scoring=\"f1\")\n",
    "\n",
    "p1_mean = np.mean(f1_scores)\n"
   ]
  },
  {
   "cell_type": "markdown",
   "metadata": {},
   "source": [
    "### Problem 1 Graded Answer\n",
    "\n",
    "Set `a1` to the mean F1 score of the baseline model. "
   ]
  },
  {
   "cell_type": "code",
   "execution_count": 27,
   "metadata": {},
   "outputs": [],
   "source": [
    " # Your answer here\n",
    "\n",
    "a1 = p1_mean                     # replace 0 with an expression"
   ]
  },
  {
   "cell_type": "code",
   "execution_count": 28,
   "metadata": {},
   "outputs": [
    {
     "name": "stdout",
     "output_type": "stream",
     "text": [
      "a1 = 0.7123\n"
     ]
    }
   ],
   "source": [
    "# DO NOT change this cell in any way\n",
    "\n",
    "print(f'a1 = {a1:.4f}')"
   ]
  },
  {
   "cell_type": "markdown",
   "metadata": {},
   "source": [
    "## Problem 2: Hyperparameter Optimization with Randomized Search for F1\n",
    "\n",
    "In this problem, you will tune your `pipelined_model` using `RandomizedSearchCV` to identify the best combination of tree structure and learning rate parameters that maximize the **F1 score**.\n",
    "\n",
    "**Background:**\n",
    "The F1 score is our main metric because it balances precision and recall on an imbalanced dataset. Optimizing hyperparameters for F1 ensures we manage both false positives and false negatives in a single measure.\n",
    "\n",
    "**Instructions:**\n",
    "\n",
    "1. Set up a randomized search over the following hyperparameter ranges, using appropriate random-number distributions:\n",
    "\n",
    "   * `learning_rate` (log-uniform between 1e-3 and 0.3)\n",
    "   * `max_leaf_nodes` (integer from 16 to 256)\n",
    "   * `max_depth` (integer from 2 to 10)\n",
    "   * `min_samples_leaf` (integer from 10 to 200)\n",
    "   * `l2_regularization` (uniform between 0.0 and 2.0)\n",
    "2. Use **5-fold stratified cross-validation**, with the same settings as in Problem 1.\n",
    "3. Set `n_iter` to at least 100 trials. More trials will generally yield better results, if your time and machine allow.\n",
    "4. After running the search, show a neatly formatted table of the top 5 results, using `display(...)` showing their mean F1 scores, standard deviation, and the chosen hyperparameter values.\n",
    "5. Answer the graded question.\n",
    "\n",
    "\n"
   ]
  },
  {
   "cell_type": "code",
   "execution_count": 29,
   "metadata": {},
   "outputs": [
    {
     "name": "stdout",
     "output_type": "stream",
     "text": [
      "Fitting 5 folds for each of 100 candidates, totalling 500 fits\n"
     ]
    },
    {
     "data": {
      "text/html": [
       "<div>\n",
       "<style scoped>\n",
       "    .dataframe tbody tr th:only-of-type {\n",
       "        vertical-align: middle;\n",
       "    }\n",
       "\n",
       "    .dataframe tbody tr th {\n",
       "        vertical-align: top;\n",
       "    }\n",
       "\n",
       "    .dataframe thead th {\n",
       "        text-align: right;\n",
       "    }\n",
       "</style>\n",
       "<table border=\"1\" class=\"dataframe\">\n",
       "  <thead>\n",
       "    <tr style=\"text-align: right;\">\n",
       "      <th></th>\n",
       "      <th>mean_test_score</th>\n",
       "      <th>std_test_score</th>\n",
       "      <th>param_gb__learning_rate</th>\n",
       "      <th>param_gb__max_leaf_nodes</th>\n",
       "      <th>param_gb__max_depth</th>\n",
       "      <th>param_gb__min_samples_leaf</th>\n",
       "      <th>param_gb__l2_regularization</th>\n",
       "    </tr>\n",
       "  </thead>\n",
       "  <tbody>\n",
       "    <tr>\n",
       "      <th>59</th>\n",
       "      <td>0.7140</td>\n",
       "      <td>0.0049</td>\n",
       "      <td>0.2295</td>\n",
       "      <td>61</td>\n",
       "      <td>2</td>\n",
       "      <td>190</td>\n",
       "      <td>1.4954</td>\n",
       "    </tr>\n",
       "    <tr>\n",
       "      <th>55</th>\n",
       "      <td>0.7139</td>\n",
       "      <td>0.0047</td>\n",
       "      <td>0.1756</td>\n",
       "      <td>36</td>\n",
       "      <td>3</td>\n",
       "      <td>39</td>\n",
       "      <td>0.9735</td>\n",
       "    </tr>\n",
       "    <tr>\n",
       "      <th>19</th>\n",
       "      <td>0.7132</td>\n",
       "      <td>0.0050</td>\n",
       "      <td>0.1275</td>\n",
       "      <td>48</td>\n",
       "      <td>3</td>\n",
       "      <td>57</td>\n",
       "      <td>1.8299</td>\n",
       "    </tr>\n",
       "    <tr>\n",
       "      <th>99</th>\n",
       "      <td>0.7129</td>\n",
       "      <td>0.0051</td>\n",
       "      <td>0.2263</td>\n",
       "      <td>126</td>\n",
       "      <td>4</td>\n",
       "      <td>153</td>\n",
       "      <td>1.9001</td>\n",
       "    </tr>\n",
       "    <tr>\n",
       "      <th>98</th>\n",
       "      <td>0.7125</td>\n",
       "      <td>0.0036</td>\n",
       "      <td>0.1749</td>\n",
       "      <td>214</td>\n",
       "      <td>10</td>\n",
       "      <td>37</td>\n",
       "      <td>0.0217</td>\n",
       "    </tr>\n",
       "  </tbody>\n",
       "</table>\n",
       "</div>"
      ],
      "text/plain": [
       "    mean_test_score  std_test_score  param_gb__learning_rate  \\\n",
       "59           0.7140          0.0049                   0.2295   \n",
       "55           0.7139          0.0047                   0.1756   \n",
       "19           0.7132          0.0050                   0.1275   \n",
       "99           0.7129          0.0051                   0.2263   \n",
       "98           0.7125          0.0036                   0.1749   \n",
       "\n",
       "    param_gb__max_leaf_nodes  param_gb__max_depth  param_gb__min_samples_leaf  \\\n",
       "59                        61                    2                         190   \n",
       "55                        36                    3                          39   \n",
       "19                        48                    3                          57   \n",
       "99                       126                    4                         153   \n",
       "98                       214                   10                          37   \n",
       "\n",
       "    param_gb__l2_regularization  \n",
       "59                       1.4954  \n",
       "55                       0.9735  \n",
       "19                       1.8299  \n",
       "99                       1.9001  \n",
       "98                       0.0217  "
      ]
     },
     "metadata": {},
     "output_type": "display_data"
    }
   ],
   "source": [
    "# Your code here\n",
    "\n",
    "param_distributions = {\n",
    "    \"gb__learning_rate\": loguniform(1e-3, 0.3),\n",
    "    \"gb__max_leaf_nodes\": randint(16, 257),\n",
    "    \"gb__max_depth\": randint(2, 11),\n",
    "    \"gb__min_samples_leaf\": randint(10, 201),\n",
    "    \"gb__l2_regularization\": uniform(0.0, 2.0)\n",
    "}\n",
    "\n",
    "cv = StratifiedKFold(n_splits=5, shuffle=True, random_state=random_seed)\n",
    "\n",
    "search = RandomizedSearchCV(\n",
    "    estimator=pipelined_model,\n",
    "    param_distributions=param_distributions,\n",
    "    n_iter=100,\n",
    "    scoring=\"f1\",\n",
    "    cv=cv,\n",
    "    random_state=random_seed,\n",
    "    verbose=1,\n",
    "    n_jobs=-1,\n",
    "    return_train_score=False\n",
    ")\n",
    "\n",
    "search.fit(X, y)\n",
    "results_df = pd.DataFrame(search.cv_results_)\n",
    "top5 = results_df.sort_values(by=\"mean_test_score\", ascending=False).head(5)\n",
    "\n",
    "columns_to_display = [\n",
    "    \"mean_test_score\", \"std_test_score\",\n",
    "    \"param_gb__learning_rate\", \"param_gb__max_leaf_nodes\",\n",
    "    \"param_gb__max_depth\", \"param_gb__min_samples_leaf\",\n",
    "    \"param_gb__l2_regularization\"\n",
    "]\n",
    "display(top5[columns_to_display].round(4))\n"
   ]
  },
  {
   "cell_type": "code",
   "execution_count": null,
   "metadata": {},
   "outputs": [
    {
     "data": {
      "text/plain": [
       "np.float64(0.7139843373951789)"
      ]
     },
     "execution_count": 32,
     "metadata": {},
     "output_type": "execute_result"
    }
   ],
   "source": []
  },
  {
   "cell_type": "markdown",
   "metadata": {},
   "source": [
    "### Problem 2 Graded Answer\n",
    "\n",
    "Set `a2` to the mean F1 score of the best model found. "
   ]
  },
  {
   "cell_type": "code",
   "execution_count": 39,
   "metadata": {},
   "outputs": [],
   "source": [
    " # Your answer here\n",
    "\n",
    "a2 = search.best_score_                     # replace 0 with your answer, may copy from the displayed results"
   ]
  },
  {
   "cell_type": "code",
   "execution_count": 40,
   "metadata": {},
   "outputs": [
    {
     "name": "stdout",
     "output_type": "stream",
     "text": [
      "a2 = 0.7140\n"
     ]
    }
   ],
   "source": [
    "# DO NOT change this cell in any way\n",
    "\n",
    "print(f'a2 = {a2:.4f}')"
   ]
  },
  {
   "cell_type": "markdown",
   "metadata": {},
   "source": [
    "## Problem 3: Hyperparameter Optimization with Optuna for F1\n",
    "\n",
    "In this problem, you will explore **Optuna**, a powerful hyperparameter optimization framework, to identify the best combination of hyperparameters that maximize the F1 score of your `pipelined_model`.\n",
    "\n",
    "**Background:**\n",
    "Optuna uses a smarter sampling strategy than grid search or randomized search, allowing you to explore the hyperparameter space more efficiently. It also supports *pruning*, which can stop unpromising trials early to save time. This makes it a popular SOTA optimization tool.\n",
    "\n",
    "**Before you start** browse the [Optuna documentation](https://optuna.org) and view the [tutorial video](https://optuna.readthedocs.io/en/stable/tutorial/index.html). \n",
    "\n",
    "As before, we focus on the **F1 score** because it balances precision and recall, making it more robust on an imbalanced dataset.\n",
    "\n",
    "**Instructions:**\n",
    "\n",
    "1. Define an Optuna objective function to optimize F1 score, sampling the exact same hyperparameter ranges you did in Problem 2 and using the same CV settings.  \n",
    "3. Set up an Optuna study with a reasonable number of trials (e.g., 100–500 depending on runtime resources--on my machine Optuna runs about 10x faster than randomized search for the same number of trials, but YMMV).\n",
    "4. After running the optimization, `display` a clean table with the top 5 trials showing their F1 scores and corresponding hyperparameter settings.\n",
    "5. Answer the graded question. \n",
    "\n",
    "**Note:**  There are many resources on Optuna you can find on the web, but for this problem, you have my permission to let ChatGPT write the code for you. "
   ]
  },
  {
   "cell_type": "code",
   "execution_count": 33,
   "metadata": {},
   "outputs": [
    {
     "name": "stderr",
     "output_type": "stream",
     "text": [
      "[I 2025-07-01 23:02:14,266] A new study created in memory with name: no-name-709a17df-73e6-4842-bf77-fa8acc1dbe88\n",
      "Best trial: 0. Best value: 0.69529:   0%|          | 1/200 [00:20<1:08:10, 20.56s/it]"
     ]
    },
    {
     "name": "stdout",
     "output_type": "stream",
     "text": [
      "[I 2025-07-01 23:02:34,824] Trial 0 finished with value: 0.6952899580869166 and parameters: {'learning_rate': 0.008468008575248327, 'max_leaf_nodes': 245, 'max_depth': 8, 'min_samples_leaf': 124, 'l2_regularization': 0.31203728088487304}. Best is trial 0 with value: 0.6952899580869166.\n"
     ]
    },
    {
     "name": "stderr",
     "output_type": "stream",
     "text": [
      "Best trial: 0. Best value: 0.69529:   1%|          | 2/200 [00:38<1:03:11, 19.15s/it]"
     ]
    },
    {
     "name": "stdout",
     "output_type": "stream",
     "text": [
      "[I 2025-07-01 23:02:52,986] Trial 1 finished with value: 0.6746784536793463 and parameters: {'learning_rate': 0.0024345423962016913, 'max_leaf_nodes': 29, 'max_depth': 9, 'min_samples_leaf': 124, 'l2_regularization': 1.416145155592091}. Best is trial 0 with value: 0.6952899580869166.\n"
     ]
    },
    {
     "name": "stderr",
     "output_type": "stream",
     "text": [
      "Best trial: 0. Best value: 0.69529:   2%|▏         | 3/200 [01:07<1:17:57, 23.74s/it]"
     ]
    },
    {
     "name": "stdout",
     "output_type": "stream",
     "text": [
      "[I 2025-07-01 23:03:22,195] Trial 2 finished with value: 0.674860950751756 and parameters: {'learning_rate': 0.001124579825911934, 'max_leaf_nodes': 249, 'max_depth': 9, 'min_samples_leaf': 50, 'l2_regularization': 0.36364993441420124}. Best is trial 0 with value: 0.6952899580869166.\n"
     ]
    },
    {
     "name": "stderr",
     "output_type": "stream",
     "text": [
      "Best trial: 0. Best value: 0.69529:   2%|▏         | 4/200 [01:24<1:08:55, 21.10s/it]"
     ]
    },
    {
     "name": "stdout",
     "output_type": "stream",
     "text": [
      "[I 2025-07-01 23:03:39,244] Trial 3 finished with value: 0.670262188376623 and parameters: {'learning_rate': 0.002846526357761094, 'max_leaf_nodes': 89, 'max_depth': 6, 'min_samples_leaf': 92, 'l2_regularization': 0.5824582803960838}. Best is trial 0 with value: 0.6952899580869166.\n"
     ]
    },
    {
     "name": "stderr",
     "output_type": "stream",
     "text": [
      "Best trial: 4. Best value: 0.709159:   2%|▎         | 5/200 [01:36<57:07, 17.58s/it]  "
     ]
    },
    {
     "name": "stdout",
     "output_type": "stream",
     "text": [
      "[I 2025-07-01 23:03:50,573] Trial 4 finished with value: 0.7091588026211367 and parameters: {'learning_rate': 0.032781876533976156, 'max_leaf_nodes': 49, 'max_depth': 4, 'min_samples_leaf': 79, 'l2_regularization': 0.9121399684340719}. Best is trial 4 with value: 0.7091588026211367.\n"
     ]
    },
    {
     "name": "stderr",
     "output_type": "stream",
     "text": [
      "Best trial: 5. Best value: 0.712424:   3%|▎         | 6/200 [01:44<46:49, 14.48s/it]"
     ]
    },
    {
     "name": "stdout",
     "output_type": "stream",
     "text": [
      "[I 2025-07-01 23:03:59,046] Trial 5 finished with value: 0.7124240175363031 and parameters: {'learning_rate': 0.08810003129071789, 'max_leaf_nodes': 64, 'max_depth': 6, 'min_samples_leaf': 123, 'l2_regularization': 0.09290082543999545}. Best is trial 5 with value: 0.7124240175363031.\n"
     ]
    },
    {
     "name": "stderr",
     "output_type": "stream",
     "text": [
      "Best trial: 5. Best value: 0.712424:   4%|▎         | 7/200 [01:53<40:23, 12.56s/it]"
     ]
    },
    {
     "name": "stdout",
     "output_type": "stream",
     "text": [
      "[I 2025-07-01 23:04:07,641] Trial 6 finished with value: 0.6938511368917875 and parameters: {'learning_rate': 0.03198617182203562, 'max_leaf_nodes': 57, 'max_depth': 2, 'min_samples_leaf': 191, 'l2_regularization': 1.9312640661491187}. Best is trial 5 with value: 0.7124240175363031.\n"
     ]
    },
    {
     "name": "stderr",
     "output_type": "stream",
     "text": [
      "Best trial: 5. Best value: 0.712424:   4%|▍         | 8/200 [02:01<35:59, 11.25s/it]"
     ]
    },
    {
     "name": "stdout",
     "output_type": "stream",
     "text": [
      "[I 2025-07-01 23:04:16,084] Trial 7 finished with value: 0.7097721180903486 and parameters: {'learning_rate': 0.10057690178153984, 'max_leaf_nodes': 89, 'max_depth': 2, 'min_samples_leaf': 140, 'l2_regularization': 0.8803049874792026}. Best is trial 5 with value: 0.7124240175363031.\n"
     ]
    },
    {
     "name": "stderr",
     "output_type": "stream",
     "text": [
      "Best trial: 5. Best value: 0.712424:   4%|▍         | 9/200 [02:10<33:39, 10.57s/it]"
     ]
    },
    {
     "name": "stdout",
     "output_type": "stream",
     "text": [
      "[I 2025-07-01 23:04:25,173] Trial 8 finished with value: 0.6160116957430581 and parameters: {'learning_rate': 0.002005873336344495, 'max_leaf_nodes': 135, 'max_depth': 2, 'min_samples_leaf': 183, 'l2_regularization': 0.5175599632000338}. Best is trial 5 with value: 0.7124240175363031.\n"
     ]
    },
    {
     "name": "stderr",
     "output_type": "stream",
     "text": [
      "Best trial: 5. Best value: 0.712424:   5%|▌         | 10/200 [02:24<36:09, 11.42s/it]"
     ]
    },
    {
     "name": "stdout",
     "output_type": "stream",
     "text": [
      "[I 2025-07-01 23:04:38,479] Trial 9 finished with value: 0.7105349450501198 and parameters: {'learning_rate': 0.043767126303409544, 'max_leaf_nodes': 91, 'max_depth': 6, 'min_samples_leaf': 114, 'l2_regularization': 0.3697089110510541}. Best is trial 5 with value: 0.7124240175363031.\n"
     ]
    },
    {
     "name": "stderr",
     "output_type": "stream",
     "text": [
      "Best trial: 10. Best value: 0.713785:   6%|▌         | 11/200 [02:27<28:24,  9.02s/it]"
     ]
    },
    {
     "name": "stdout",
     "output_type": "stream",
     "text": [
      "[I 2025-07-01 23:04:42,068] Trial 10 finished with value: 0.7137853334660293 and parameters: {'learning_rate': 0.2597765579460734, 'max_leaf_nodes': 184, 'max_depth': 4, 'min_samples_leaf': 13, 'l2_regularization': 0.029026933760103082}. Best is trial 10 with value: 0.7137853334660293.\n"
     ]
    },
    {
     "name": "stderr",
     "output_type": "stream",
     "text": [
      "Best trial: 11. Best value: 0.713934:   6%|▌         | 12/200 [02:32<23:56,  7.64s/it]"
     ]
    },
    {
     "name": "stdout",
     "output_type": "stream",
     "text": [
      "[I 2025-07-01 23:04:46,552] Trial 11 finished with value: 0.7139339220128978 and parameters: {'learning_rate': 0.20737688966099269, 'max_leaf_nodes': 190, 'max_depth': 4, 'min_samples_leaf': 26, 'l2_regularization': 0.007453247542965356}. Best is trial 11 with value: 0.7139339220128978.\n"
     ]
    },
    {
     "name": "stderr",
     "output_type": "stream",
     "text": [
      "Best trial: 11. Best value: 0.713934:   6%|▋         | 13/200 [02:35<19:30,  6.26s/it]"
     ]
    },
    {
     "name": "stdout",
     "output_type": "stream",
     "text": [
      "[I 2025-07-01 23:04:49,642] Trial 12 finished with value: 0.7128002893663709 and parameters: {'learning_rate': 0.2872462699057635, 'max_leaf_nodes': 192, 'max_depth': 4, 'min_samples_leaf': 16, 'l2_regularization': 0.03287085363744247}. Best is trial 11 with value: 0.7139339220128978.\n"
     ]
    },
    {
     "name": "stderr",
     "output_type": "stream",
     "text": [
      "Best trial: 11. Best value: 0.713934:   7%|▋         | 14/200 [02:39<16:57,  5.47s/it]"
     ]
    },
    {
     "name": "stdout",
     "output_type": "stream",
     "text": [
      "[I 2025-07-01 23:04:53,279] Trial 13 finished with value: 0.7137691057219369 and parameters: {'learning_rate': 0.24706127938246092, 'max_leaf_nodes': 188, 'max_depth': 4, 'min_samples_leaf': 10, 'l2_regularization': 1.291712881406482}. Best is trial 11 with value: 0.7139339220128978.\n"
     ]
    },
    {
     "name": "stderr",
     "output_type": "stream",
     "text": [
      "Best trial: 11. Best value: 0.713934:   8%|▊         | 15/200 [02:44<17:07,  5.55s/it]"
     ]
    },
    {
     "name": "stdout",
     "output_type": "stream",
     "text": [
      "[I 2025-07-01 23:04:59,024] Trial 14 finished with value: 0.7127794842738056 and parameters: {'learning_rate': 0.12064229430874751, 'max_leaf_nodes': 182, 'max_depth': 5, 'min_samples_leaf': 48, 'l2_regularization': 0.029010502180317324}. Best is trial 11 with value: 0.7139339220128978.\n"
     ]
    },
    {
     "name": "stderr",
     "output_type": "stream",
     "text": [
      "Best trial: 11. Best value: 0.713934:   8%|▊         | 16/200 [02:55<21:27,  7.00s/it]"
     ]
    },
    {
     "name": "stdout",
     "output_type": "stream",
     "text": [
      "[I 2025-07-01 23:05:09,383] Trial 15 finished with value: 0.6802708893821506 and parameters: {'learning_rate': 0.01053693626533655, 'max_leaf_nodes': 151, 'max_depth': 3, 'min_samples_leaf': 42, 'l2_regularization': 0.6447332971785196}. Best is trial 11 with value: 0.7139339220128978.\n"
     ]
    },
    {
     "name": "stderr",
     "output_type": "stream",
     "text": [
      "Best trial: 11. Best value: 0.713934:   8%|▊         | 17/200 [03:00<19:33,  6.41s/it]"
     ]
    },
    {
     "name": "stdout",
     "output_type": "stream",
     "text": [
      "[I 2025-07-01 23:05:14,429] Trial 16 finished with value: 0.7101301697539166 and parameters: {'learning_rate': 0.1443159321907246, 'max_leaf_nodes': 221, 'max_depth': 7, 'min_samples_leaf': 67, 'l2_regularization': 1.33344223356461}. Best is trial 11 with value: 0.7139339220128978.\n"
     ]
    },
    {
     "name": "stderr",
     "output_type": "stream",
     "text": [
      "Best trial: 11. Best value: 0.713934:   9%|▉         | 18/200 [03:11<23:48,  7.85s/it]"
     ]
    },
    {
     "name": "stdout",
     "output_type": "stream",
     "text": [
      "[I 2025-07-01 23:05:25,620] Trial 17 finished with value: 0.7112078388128168 and parameters: {'learning_rate': 0.051859678866828955, 'max_leaf_nodes': 147, 'max_depth': 5, 'min_samples_leaf': 28, 'l2_regularization': 1.9920339787224264}. Best is trial 11 with value: 0.7139339220128978.\n"
     ]
    },
    {
     "name": "stderr",
     "output_type": "stream",
     "text": [
      "Best trial: 11. Best value: 0.713934:  10%|▉         | 19/200 [03:18<23:09,  7.68s/it]"
     ]
    },
    {
     "name": "stdout",
     "output_type": "stream",
     "text": [
      "[I 2025-07-01 23:05:32,895] Trial 18 finished with value: 0.7132079117510464 and parameters: {'learning_rate': 0.17929753032709952, 'max_leaf_nodes': 217, 'max_depth': 3, 'min_samples_leaf': 160, 'l2_regularization': 0.2275222650691006}. Best is trial 11 with value: 0.7139339220128978.\n"
     ]
    },
    {
     "name": "stderr",
     "output_type": "stream",
     "text": [
      "Best trial: 11. Best value: 0.713934:  10%|█         | 20/200 [03:32<28:21,  9.45s/it]"
     ]
    },
    {
     "name": "stdout",
     "output_type": "stream",
     "text": [
      "[I 2025-07-01 23:05:46,495] Trial 19 finished with value: 0.703854333513752 and parameters: {'learning_rate': 0.017069887134957676, 'max_leaf_nodes': 158, 'max_depth': 5, 'min_samples_leaf': 66, 'l2_regularization': 0.7030433162664234}. Best is trial 11 with value: 0.7139339220128978.\n"
     ]
    },
    {
     "name": "stderr",
     "output_type": "stream",
     "text": [
      "Best trial: 11. Best value: 0.713934:  10%|█         | 21/200 [03:40<26:48,  8.98s/it]"
     ]
    },
    {
     "name": "stdout",
     "output_type": "stream",
     "text": [
      "[I 2025-07-01 23:05:54,381] Trial 20 finished with value: 0.7103232665329762 and parameters: {'learning_rate': 0.07192869727415192, 'max_leaf_nodes': 122, 'max_depth': 10, 'min_samples_leaf': 33, 'l2_regularization': 1.1471034380995189}. Best is trial 11 with value: 0.7139339220128978.\n"
     ]
    },
    {
     "name": "stderr",
     "output_type": "stream",
     "text": [
      "Best trial: 11. Best value: 0.713934:  11%|█         | 22/200 [03:43<21:57,  7.40s/it]"
     ]
    },
    {
     "name": "stdout",
     "output_type": "stream",
     "text": [
      "[I 2025-07-01 23:05:58,086] Trial 21 finished with value: 0.7138454812473369 and parameters: {'learning_rate': 0.2523136395691636, 'max_leaf_nodes': 182, 'max_depth': 4, 'min_samples_leaf': 11, 'l2_regularization': 1.5622781321066346}. Best is trial 11 with value: 0.7139339220128978.\n"
     ]
    },
    {
     "name": "stderr",
     "output_type": "stream",
     "text": [
      "Best trial: 11. Best value: 0.713934:  12%|█▏        | 23/200 [03:47<18:55,  6.42s/it]"
     ]
    },
    {
     "name": "stdout",
     "output_type": "stream",
     "text": [
      "[I 2025-07-01 23:06:02,207] Trial 22 finished with value: 0.7130512585759622 and parameters: {'learning_rate': 0.28748717030585563, 'max_leaf_nodes': 211, 'max_depth': 3, 'min_samples_leaf': 10, 'l2_regularization': 1.6458360904702927}. Best is trial 11 with value: 0.7139339220128978.\n"
     ]
    },
    {
     "name": "stderr",
     "output_type": "stream",
     "text": [
      "Best trial: 11. Best value: 0.713934:  12%|█▏        | 24/200 [03:52<17:31,  5.97s/it]"
     ]
    },
    {
     "name": "stdout",
     "output_type": "stream",
     "text": [
      "[I 2025-07-01 23:06:07,153] Trial 23 finished with value: 0.7115617679826556 and parameters: {'learning_rate': 0.1641447433710541, 'max_leaf_nodes': 171, 'max_depth': 4, 'min_samples_leaf': 28, 'l2_regularization': 1.6279874111556634}. Best is trial 11 with value: 0.7139339220128978.\n"
     ]
    },
    {
     "name": "stderr",
     "output_type": "stream",
     "text": [
      "Best trial: 11. Best value: 0.713934:  12%|█▎        | 25/200 [03:57<16:07,  5.53s/it]"
     ]
    },
    {
     "name": "stdout",
     "output_type": "stream",
     "text": [
      "[I 2025-07-01 23:06:11,644] Trial 24 finished with value: 0.7117506692316986 and parameters: {'learning_rate': 0.1991304055620488, 'max_leaf_nodes': 205, 'max_depth': 5, 'min_samples_leaf': 60, 'l2_regularization': 1.1011388916006388}. Best is trial 11 with value: 0.7139339220128978.\n"
     ]
    },
    {
     "name": "stderr",
     "output_type": "stream",
     "text": [
      "Best trial: 11. Best value: 0.713934:  13%|█▎        | 26/200 [04:07<19:46,  6.82s/it]"
     ]
    },
    {
     "name": "stdout",
     "output_type": "stream",
     "text": [
      "[I 2025-07-01 23:06:21,463] Trial 25 finished with value: 0.7120529141342492 and parameters: {'learning_rate': 0.06574239758548009, 'max_leaf_nodes': 168, 'max_depth': 3, 'min_samples_leaf': 23, 'l2_regularization': 0.18034810589485528}. Best is trial 11 with value: 0.7139339220128978.\n"
     ]
    },
    {
     "name": "stderr",
     "output_type": "stream",
     "text": [
      "Best trial: 11. Best value: 0.713934:  14%|█▎        | 27/200 [04:14<20:10,  7.00s/it]"
     ]
    },
    {
     "name": "stdout",
     "output_type": "stream",
     "text": [
      "[I 2025-07-01 23:06:28,892] Trial 26 finished with value: 0.7133818297351036 and parameters: {'learning_rate': 0.11209867093985647, 'max_leaf_nodes': 113, 'max_depth': 4, 'min_samples_leaf': 40, 'l2_regularization': 1.7168264248222442}. Best is trial 11 with value: 0.7139339220128978.\n"
     ]
    },
    {
     "name": "stderr",
     "output_type": "stream",
     "text": [
      "Best trial: 11. Best value: 0.713934:  14%|█▍        | 28/200 [04:19<17:57,  6.27s/it]"
     ]
    },
    {
     "name": "stdout",
     "output_type": "stream",
     "text": [
      "[I 2025-07-01 23:06:33,446] Trial 27 finished with value: 0.7117446530740316 and parameters: {'learning_rate': 0.1785023550277947, 'max_leaf_nodes': 227, 'max_depth': 7, 'min_samples_leaf': 89, 'l2_regularization': 0.7558956458902383}. Best is trial 11 with value: 0.7139339220128978.\n"
     ]
    },
    {
     "name": "stderr",
     "output_type": "stream",
     "text": [
      "Best trial: 11. Best value: 0.713934:  14%|█▍        | 29/200 [04:32<23:38,  8.29s/it]"
     ]
    },
    {
     "name": "stdout",
     "output_type": "stream",
     "text": [
      "[I 2025-07-01 23:06:46,470] Trial 28 finished with value: 0.7099687805517163 and parameters: {'learning_rate': 0.029734536847197502, 'max_leaf_nodes': 197, 'max_depth': 5, 'min_samples_leaf': 57, 'l2_regularization': 0.5151689118233728}. Best is trial 11 with value: 0.7139339220128978.\n"
     ]
    },
    {
     "name": "stderr",
     "output_type": "stream",
     "text": [
      "Best trial: 11. Best value: 0.713934:  15%|█▌        | 30/200 [04:52<33:59, 12.00s/it]"
     ]
    },
    {
     "name": "stdout",
     "output_type": "stream",
     "text": [
      "[I 2025-07-01 23:07:07,112] Trial 29 finished with value: 0.6901637703990385 and parameters: {'learning_rate': 0.006159763801939537, 'max_leaf_nodes': 242, 'max_depth': 7, 'min_samples_leaf': 23, 'l2_regularization': 0.3089141365339884}. Best is trial 11 with value: 0.7139339220128978.\n"
     ]
    },
    {
     "name": "stderr",
     "output_type": "stream",
     "text": [
      "Best trial: 30. Best value: 0.714618:  16%|█▌        | 31/200 [04:58<28:04,  9.97s/it]"
     ]
    },
    {
     "name": "stdout",
     "output_type": "stream",
     "text": [
      "[I 2025-07-01 23:07:12,350] Trial 30 finished with value: 0.7146181722399032 and parameters: {'learning_rate': 0.22578459264592227, 'max_leaf_nodes': 172, 'max_depth': 3, 'min_samples_leaf': 38, 'l2_regularization': 1.5391610320146405}. Best is trial 30 with value: 0.7146181722399032.\n"
     ]
    },
    {
     "name": "stderr",
     "output_type": "stream",
     "text": [
      "Best trial: 30. Best value: 0.714618:  16%|█▌        | 32/200 [05:02<23:04,  8.24s/it]"
     ]
    },
    {
     "name": "stdout",
     "output_type": "stream",
     "text": [
      "[I 2025-07-01 23:07:16,563] Trial 31 finished with value: 0.7144409914717903 and parameters: {'learning_rate': 0.2890786826334026, 'max_leaf_nodes': 172, 'max_depth': 3, 'min_samples_leaf': 33, 'l2_regularization': 1.5322761038662993}. Best is trial 30 with value: 0.7146181722399032.\n"
     ]
    },
    {
     "name": "stderr",
     "output_type": "stream",
     "text": [
      "Best trial: 30. Best value: 0.714618:  16%|█▋        | 33/200 [05:08<21:32,  7.74s/it]"
     ]
    },
    {
     "name": "stdout",
     "output_type": "stream",
     "text": [
      "[I 2025-07-01 23:07:23,122] Trial 32 finished with value: 0.7127246574009021 and parameters: {'learning_rate': 0.14889445171906687, 'max_leaf_nodes': 170, 'max_depth': 3, 'min_samples_leaf': 37, 'l2_regularization': 1.5074342900204651}. Best is trial 30 with value: 0.7146181722399032.\n"
     ]
    },
    {
     "name": "stderr",
     "output_type": "stream",
     "text": [
      "Best trial: 30. Best value: 0.714618:  17%|█▋        | 34/200 [05:15<20:51,  7.54s/it]"
     ]
    },
    {
     "name": "stdout",
     "output_type": "stream",
     "text": [
      "[I 2025-07-01 23:07:30,202] Trial 33 finished with value: 0.7125144184741323 and parameters: {'learning_rate': 0.21590238102333995, 'max_leaf_nodes': 144, 'max_depth': 2, 'min_samples_leaf': 50, 'l2_regularization': 1.808982905613443}. Best is trial 30 with value: 0.7146181722399032.\n"
     ]
    },
    {
     "name": "stderr",
     "output_type": "stream",
     "text": [
      "Best trial: 30. Best value: 0.714618:  18%|█▊        | 35/200 [05:20<18:07,  6.59s/it]"
     ]
    },
    {
     "name": "stdout",
     "output_type": "stream",
     "text": [
      "[I 2025-07-01 23:07:34,568] Trial 34 finished with value: 0.713285547199703 and parameters: {'learning_rate': 0.2987934767801677, 'max_leaf_nodes': 129, 'max_depth': 3, 'min_samples_leaf': 76, 'l2_regularization': 1.4886893869317575}. Best is trial 30 with value: 0.7146181722399032.\n"
     ]
    },
    {
     "name": "stderr",
     "output_type": "stream",
     "text": [
      "Best trial: 30. Best value: 0.714618:  18%|█▊        | 36/200 [05:28<19:32,  7.15s/it]"
     ]
    },
    {
     "name": "stdout",
     "output_type": "stream",
     "text": [
      "[I 2025-07-01 23:07:43,032] Trial 35 finished with value: 0.7102077465420671 and parameters: {'learning_rate': 0.08792501863719038, 'max_leaf_nodes': 237, 'max_depth': 2, 'min_samples_leaf': 22, 'l2_regularization': 1.2473437948775485}. Best is trial 30 with value: 0.7146181722399032.\n"
     ]
    },
    {
     "name": "stderr",
     "output_type": "stream",
     "text": [
      "Best trial: 30. Best value: 0.714618:  18%|█▊        | 37/200 [05:35<19:19,  7.11s/it]"
     ]
    },
    {
     "name": "stdout",
     "output_type": "stream",
     "text": [
      "[I 2025-07-01 23:07:50,050] Trial 36 finished with value: 0.7137384744611666 and parameters: {'learning_rate': 0.11701946809786823, 'max_leaf_nodes': 162, 'max_depth': 4, 'min_samples_leaf': 38, 'l2_regularization': 1.430198409915202}. Best is trial 30 with value: 0.7146181722399032.\n"
     ]
    },
    {
     "name": "stderr",
     "output_type": "stream",
     "text": [
      "Best trial: 30. Best value: 0.714618:  19%|█▉        | 38/200 [05:42<18:39,  6.91s/it]"
     ]
    },
    {
     "name": "stdout",
     "output_type": "stream",
     "text": [
      "[I 2025-07-01 23:07:56,492] Trial 37 finished with value: 0.712182675676793 and parameters: {'learning_rate': 0.20629242714182205, 'max_leaf_nodes': 18, 'max_depth': 3, 'min_samples_leaf': 101, 'l2_regularization': 1.8502529354818833}. Best is trial 30 with value: 0.7146181722399032.\n"
     ]
    },
    {
     "name": "stderr",
     "output_type": "stream",
     "text": [
      "Best trial: 30. Best value: 0.714618:  20%|█▉        | 39/200 [05:58<26:14,  9.78s/it]"
     ]
    },
    {
     "name": "stdout",
     "output_type": "stream",
     "text": [
      "[I 2025-07-01 23:08:12,974] Trial 38 finished with value: 0.679426639509488 and parameters: {'learning_rate': 0.005159782873989242, 'max_leaf_nodes': 203, 'max_depth': 6, 'min_samples_leaf': 83, 'l2_regularization': 1.5937069712158487}. Best is trial 30 with value: 0.7146181722399032.\n"
     ]
    },
    {
     "name": "stderr",
     "output_type": "stream",
     "text": [
      "Best trial: 30. Best value: 0.714618:  20%|██        | 40/200 [06:07<25:40,  9.63s/it]"
     ]
    },
    {
     "name": "stdout",
     "output_type": "stream",
     "text": [
      "[I 2025-07-01 23:08:22,249] Trial 39 finished with value: 0.6060211717967413 and parameters: {'learning_rate': 0.0010014961496868477, 'max_leaf_nodes': 177, 'max_depth': 2, 'min_samples_leaf': 53, 'l2_regularization': 1.002767199203275}. Best is trial 30 with value: 0.7146181722399032.\n"
     ]
    },
    {
     "name": "stderr",
     "output_type": "stream",
     "text": [
      "Best trial: 30. Best value: 0.714618:  20%|██        | 41/200 [06:26<32:24, 12.23s/it]"
     ]
    },
    {
     "name": "stdout",
     "output_type": "stream",
     "text": [
      "[I 2025-07-01 23:08:40,551] Trial 40 finished with value: 0.7099797236069781 and parameters: {'learning_rate': 0.02226370042489073, 'max_leaf_nodes': 251, 'max_depth': 8, 'min_samples_leaf': 70, 'l2_regularization': 1.3669360138900493}. Best is trial 30 with value: 0.7146181722399032.\n"
     ]
    },
    {
     "name": "stderr",
     "output_type": "stream",
     "text": [
      "Best trial: 30. Best value: 0.714618:  21%|██        | 42/200 [06:30<25:34,  9.71s/it]"
     ]
    },
    {
     "name": "stdout",
     "output_type": "stream",
     "text": [
      "[I 2025-07-01 23:08:44,380] Trial 41 finished with value: 0.7127419482365918 and parameters: {'learning_rate': 0.23544058022285047, 'max_leaf_nodes': 184, 'max_depth': 4, 'min_samples_leaf': 21, 'l2_regularization': 1.7131133883995693}. Best is trial 30 with value: 0.7146181722399032.\n"
     ]
    },
    {
     "name": "stderr",
     "output_type": "stream",
     "text": [
      "Best trial: 30. Best value: 0.714618:  22%|██▏       | 43/200 [06:35<22:05,  8.44s/it]"
     ]
    },
    {
     "name": "stdout",
     "output_type": "stream",
     "text": [
      "[I 2025-07-01 23:08:49,856] Trial 42 finished with value: 0.7135518199233809 and parameters: {'learning_rate': 0.14488602378852497, 'max_leaf_nodes': 194, 'max_depth': 4, 'min_samples_leaf': 10, 'l2_regularization': 1.2066518752240105}. Best is trial 30 with value: 0.7146181722399032.\n"
     ]
    },
    {
     "name": "stderr",
     "output_type": "stream",
     "text": [
      "Best trial: 30. Best value: 0.714618:  22%|██▏       | 44/200 [06:44<22:36,  8.70s/it]"
     ]
    },
    {
     "name": "stdout",
     "output_type": "stream",
     "text": [
      "[I 2025-07-01 23:08:59,149] Trial 43 finished with value: 0.7123593389712014 and parameters: {'learning_rate': 0.08257470316016403, 'max_leaf_nodes': 156, 'max_depth': 3, 'min_samples_leaf': 32, 'l2_regularization': 0.1201733317023391}. Best is trial 30 with value: 0.7146181722399032.\n"
     ]
    },
    {
     "name": "stderr",
     "output_type": "stream",
     "text": [
      "Best trial: 30. Best value: 0.714618:  22%|██▎       | 45/200 [06:48<18:39,  7.22s/it]"
     ]
    },
    {
     "name": "stdout",
     "output_type": "stream",
     "text": [
      "[I 2025-07-01 23:09:02,936] Trial 44 finished with value: 0.7132084328097321 and parameters: {'learning_rate': 0.25868417539467886, 'max_leaf_nodes': 181, 'max_depth': 4, 'min_samples_leaf': 45, 'l2_regularization': 0.3570535880429473}. Best is trial 30 with value: 0.7146181722399032.\n"
     ]
    },
    {
     "name": "stderr",
     "output_type": "stream",
     "text": [
      "Best trial: 30. Best value: 0.714618:  23%|██▎       | 46/200 [06:59<21:33,  8.40s/it]"
     ]
    },
    {
     "name": "stdout",
     "output_type": "stream",
     "text": [
      "[I 2025-07-01 23:09:14,075] Trial 45 finished with value: 0.7123233604704182 and parameters: {'learning_rate': 0.0546073486641782, 'max_leaf_nodes': 139, 'max_depth': 5, 'min_samples_leaf': 16, 'l2_regularization': 1.5217629180104248}. Best is trial 30 with value: 0.7146181722399032.\n"
     ]
    },
    {
     "name": "stderr",
     "output_type": "stream",
     "text": [
      "Best trial: 30. Best value: 0.714618:  24%|██▎       | 47/200 [07:08<21:29,  8.43s/it]"
     ]
    },
    {
     "name": "stdout",
     "output_type": "stream",
     "text": [
      "[I 2025-07-01 23:09:22,566] Trial 46 finished with value: 0.7109174183019147 and parameters: {'learning_rate': 0.12590772840779493, 'max_leaf_nodes': 200, 'max_depth': 2, 'min_samples_leaf': 133, 'l2_regularization': 0.005209011303532265}. Best is trial 30 with value: 0.7146181722399032.\n"
     ]
    },
    {
     "name": "stderr",
     "output_type": "stream",
     "text": [
      "Best trial: 30. Best value: 0.714618:  24%|██▍       | 48/200 [07:12<18:09,  7.17s/it]"
     ]
    },
    {
     "name": "stdout",
     "output_type": "stream",
     "text": [
      "[I 2025-07-01 23:09:26,789] Trial 47 finished with value: 0.7140978663058671 and parameters: {'learning_rate': 0.22510764832509914, 'max_leaf_nodes': 112, 'max_depth': 4, 'min_samples_leaf': 17, 'l2_regularization': 0.9951566685272867}. Best is trial 30 with value: 0.7146181722399032.\n"
     ]
    },
    {
     "name": "stderr",
     "output_type": "stream",
     "text": [
      "Best trial: 30. Best value: 0.714618:  24%|██▍       | 49/200 [07:21<19:39,  7.81s/it]"
     ]
    },
    {
     "name": "stdout",
     "output_type": "stream",
     "text": [
      "[I 2025-07-01 23:09:36,116] Trial 48 finished with value: 0.7140627663555359 and parameters: {'learning_rate': 0.09657333922039221, 'max_leaf_nodes': 104, 'max_depth': 3, 'min_samples_leaf': 29, 'l2_regularization': 1.8113716048433264}. Best is trial 30 with value: 0.7146181722399032.\n"
     ]
    },
    {
     "name": "stderr",
     "output_type": "stream",
     "text": [
      "Best trial: 30. Best value: 0.714618:  25%|██▌       | 50/200 [07:30<20:18,  8.12s/it]"
     ]
    },
    {
     "name": "stdout",
     "output_type": "stream",
     "text": [
      "[I 2025-07-01 23:09:44,960] Trial 49 finished with value: 0.7126718913297541 and parameters: {'learning_rate': 0.09611237328132329, 'max_leaf_nodes': 102, 'max_depth': 3, 'min_samples_leaf': 29, 'l2_regularization': 1.8365972865163855}. Best is trial 30 with value: 0.7146181722399032.\n"
     ]
    },
    {
     "name": "stderr",
     "output_type": "stream",
     "text": [
      "Best trial: 30. Best value: 0.714618:  26%|██▌       | 51/200 [07:38<20:13,  8.14s/it]"
     ]
    },
    {
     "name": "stdout",
     "output_type": "stream",
     "text": [
      "[I 2025-07-01 23:09:53,152] Trial 50 finished with value: 0.7131350876465546 and parameters: {'learning_rate': 0.17560690191457468, 'max_leaf_nodes': 101, 'max_depth': 2, 'min_samples_leaf': 59, 'l2_regularization': 1.739000678991666}. Best is trial 30 with value: 0.7146181722399032.\n"
     ]
    },
    {
     "name": "stderr",
     "output_type": "stream",
     "text": [
      "Best trial: 30. Best value: 0.714618:  26%|██▌       | 52/200 [07:43<17:31,  7.11s/it]"
     ]
    },
    {
     "name": "stdout",
     "output_type": "stream",
     "text": [
      "[I 2025-07-01 23:09:57,841] Trial 51 finished with value: 0.7134413244294714 and parameters: {'learning_rate': 0.21991703483495906, 'max_leaf_nodes': 69, 'max_depth': 3, 'min_samples_leaf': 45, 'l2_regularization': 0.8803939237994405}. Best is trial 30 with value: 0.7146181722399032.\n"
     ]
    },
    {
     "name": "stderr",
     "output_type": "stream",
     "text": [
      "Best trial: 30. Best value: 0.714618:  26%|██▋       | 53/200 [07:56<21:28,  8.77s/it]"
     ]
    },
    {
     "name": "stdout",
     "output_type": "stream",
     "text": [
      "[I 2025-07-01 23:10:10,478] Trial 52 finished with value: 0.6388536470932655 and parameters: {'learning_rate': 0.001559507803768658, 'max_leaf_nodes': 117, 'max_depth': 4, 'min_samples_leaf': 19, 'l2_regularization': 1.937689036064743}. Best is trial 30 with value: 0.7146181722399032.\n"
     ]
    },
    {
     "name": "stderr",
     "output_type": "stream",
     "text": [
      "Best trial: 30. Best value: 0.714618:  27%|██▋       | 54/200 [08:02<19:43,  8.11s/it]"
     ]
    },
    {
     "name": "stdout",
     "output_type": "stream",
     "text": [
      "[I 2025-07-01 23:10:17,056] Trial 53 finished with value: 0.7134166730406453 and parameters: {'learning_rate': 0.13837346977265863, 'max_leaf_nodes': 78, 'max_depth': 3, 'min_samples_leaf': 34, 'l2_regularization': 1.4221255719710908}. Best is trial 30 with value: 0.7146181722399032.\n"
     ]
    },
    {
     "name": "stderr",
     "output_type": "stream",
     "text": [
      "Best trial: 30. Best value: 0.714618:  28%|██▊       | 55/200 [08:07<16:54,  6.99s/it]"
     ]
    },
    {
     "name": "stdout",
     "output_type": "stream",
     "text": [
      "[I 2025-07-01 23:10:21,444] Trial 54 finished with value: 0.7114086463774276 and parameters: {'learning_rate': 0.2283858548533953, 'max_leaf_nodes': 128, 'max_depth': 5, 'min_samples_leaf': 156, 'l2_regularization': 1.0085799829635422}. Best is trial 30 with value: 0.7146181722399032.\n"
     ]
    },
    {
     "name": "stderr",
     "output_type": "stream",
     "text": [
      "Best trial: 30. Best value: 0.714618:  28%|██▊       | 56/200 [08:12<15:25,  6.43s/it]"
     ]
    },
    {
     "name": "stdout",
     "output_type": "stream",
     "text": [
      "[I 2025-07-01 23:10:26,555] Trial 55 finished with value: 0.7137767404770974 and parameters: {'learning_rate': 0.1688982295840629, 'max_leaf_nodes': 107, 'max_depth': 4, 'min_samples_leaf': 28, 'l2_regularization': 0.8036424397080393}. Best is trial 30 with value: 0.7146181722399032.\n"
     ]
    },
    {
     "name": "stderr",
     "output_type": "stream",
     "text": [
      "Best trial: 30. Best value: 0.714618:  28%|██▊       | 57/200 [08:16<13:48,  5.79s/it]"
     ]
    },
    {
     "name": "stdout",
     "output_type": "stream",
     "text": [
      "[I 2025-07-01 23:10:30,865] Trial 56 finished with value: 0.7139831556086801 and parameters: {'learning_rate': 0.2985342290713657, 'max_leaf_nodes': 94, 'max_depth': 3, 'min_samples_leaf': 17, 'l2_regularization': 1.5674179687204925}. Best is trial 30 with value: 0.7146181722399032.\n"
     ]
    },
    {
     "name": "stderr",
     "output_type": "stream",
     "text": [
      "Best trial: 30. Best value: 0.714618:  29%|██▉       | 58/200 [08:22<13:45,  5.81s/it]"
     ]
    },
    {
     "name": "stdout",
     "output_type": "stream",
     "text": [
      "[I 2025-07-01 23:10:36,719] Trial 57 finished with value: 0.7136413075494337 and parameters: {'learning_rate': 0.28013664594431076, 'max_leaf_nodes': 44, 'max_depth': 2, 'min_samples_leaf': 18, 'l2_regularization': 1.6469715339257813}. Best is trial 30 with value: 0.7146181722399032.\n"
     ]
    },
    {
     "name": "stderr",
     "output_type": "stream",
     "text": [
      "Best trial: 30. Best value: 0.714618:  30%|██▉       | 59/200 [08:30<15:22,  6.54s/it]"
     ]
    },
    {
     "name": "stdout",
     "output_type": "stream",
     "text": [
      "[I 2025-07-01 23:10:44,975] Trial 58 finished with value: 0.7125932729945135 and parameters: {'learning_rate': 0.10319578455657422, 'max_leaf_nodes': 78, 'max_depth': 3, 'min_samples_leaf': 26, 'l2_regularization': 0.5467427467920791}. Best is trial 30 with value: 0.7146181722399032.\n"
     ]
    },
    {
     "name": "stderr",
     "output_type": "stream",
     "text": [
      "Best trial: 30. Best value: 0.714618:  30%|███       | 60/200 [08:34<13:22,  5.73s/it]"
     ]
    },
    {
     "name": "stdout",
     "output_type": "stream",
     "text": [
      "[I 2025-07-01 23:10:48,798] Trial 59 finished with value: 0.7126488498279375 and parameters: {'learning_rate': 0.29855361261891367, 'max_leaf_nodes': 84, 'max_depth': 3, 'min_samples_leaf': 40, 'l2_regularization': 1.9056672625040898}. Best is trial 30 with value: 0.7146181722399032.\n"
     ]
    },
    {
     "name": "stderr",
     "output_type": "stream",
     "text": [
      "Best trial: 30. Best value: 0.714618:  30%|███       | 61/200 [08:42<14:47,  6.39s/it]"
     ]
    },
    {
     "name": "stdout",
     "output_type": "stream",
     "text": [
      "[I 2025-07-01 23:10:56,724] Trial 60 finished with value: 0.7137778117097155 and parameters: {'learning_rate': 0.1920166620822994, 'max_leaf_nodes': 98, 'max_depth': 2, 'min_samples_leaf': 47, 'l2_regularization': 1.7841136323010975}. Best is trial 30 with value: 0.7146181722399032.\n"
     ]
    },
    {
     "name": "stderr",
     "output_type": "stream",
     "text": [
      "Best trial: 30. Best value: 0.714618:  31%|███       | 62/200 [08:46<12:52,  5.60s/it]"
     ]
    },
    {
     "name": "stdout",
     "output_type": "stream",
     "text": [
      "[I 2025-07-01 23:11:00,480] Trial 61 finished with value: 0.7128538377974233 and parameters: {'learning_rate': 0.24300428295490187, 'max_leaf_nodes': 134, 'max_depth': 4, 'min_samples_leaf': 15, 'l2_regularization': 1.3476993143155385}. Best is trial 30 with value: 0.7146181722399032.\n"
     ]
    },
    {
     "name": "stderr",
     "output_type": "stream",
     "text": [
      "Best trial: 30. Best value: 0.714618:  32%|███▏      | 63/200 [08:51<12:18,  5.39s/it]"
     ]
    },
    {
     "name": "stdout",
     "output_type": "stream",
     "text": [
      "[I 2025-07-01 23:11:05,395] Trial 62 finished with value: 0.7135262166652019 and parameters: {'learning_rate': 0.15718177143115625, 'max_leaf_nodes': 118, 'max_depth': 4, 'min_samples_leaf': 10, 'l2_regularization': 1.5289240061652007}. Best is trial 30 with value: 0.7146181722399032.\n"
     ]
    },
    {
     "name": "stderr",
     "output_type": "stream",
     "text": [
      "Best trial: 30. Best value: 0.714618:  32%|███▏      | 64/200 [08:56<12:21,  5.45s/it]"
     ]
    },
    {
     "name": "stdout",
     "output_type": "stream",
     "text": [
      "[I 2025-07-01 23:11:10,984] Trial 63 finished with value: 0.7127086407918668 and parameters: {'learning_rate': 0.19766943577284257, 'max_leaf_nodes': 163, 'max_depth': 3, 'min_samples_leaf': 31, 'l2_regularization': 0.4477229332982504}. Best is trial 30 with value: 0.7146181722399032.\n"
     ]
    },
    {
     "name": "stderr",
     "output_type": "stream",
     "text": [
      "Best trial: 30. Best value: 0.714618:  32%|███▎      | 65/200 [09:00<10:59,  4.88s/it]"
     ]
    },
    {
     "name": "stdout",
     "output_type": "stream",
     "text": [
      "[I 2025-07-01 23:11:14,541] Trial 64 finished with value: 0.7134657736275445 and parameters: {'learning_rate': 0.24285246234787003, 'max_leaf_nodes': 89, 'max_depth': 5, 'min_samples_leaf': 17, 'l2_regularization': 1.6037557288166302}. Best is trial 30 with value: 0.7146181722399032.\n"
     ]
    },
    {
     "name": "stderr",
     "output_type": "stream",
     "text": [
      "Best trial: 30. Best value: 0.714618:  33%|███▎      | 66/200 [09:08<12:58,  5.81s/it]"
     ]
    },
    {
     "name": "stdout",
     "output_type": "stream",
     "text": [
      "[I 2025-07-01 23:11:22,508] Trial 65 finished with value: 0.713058011156286 and parameters: {'learning_rate': 0.12866328821249204, 'max_leaf_nodes': 175, 'max_depth': 3, 'min_samples_leaf': 35, 'l2_regularization': 1.6960947817135832}. Best is trial 30 with value: 0.7146181722399032.\n"
     ]
    },
    {
     "name": "stderr",
     "output_type": "stream",
     "text": [
      "Best trial: 30. Best value: 0.714618:  34%|███▎      | 67/200 [09:20<17:11,  7.76s/it]"
     ]
    },
    {
     "name": "stdout",
     "output_type": "stream",
     "text": [
      "[I 2025-07-01 23:11:34,818] Trial 66 finished with value: 0.6926603245737846 and parameters: {'learning_rate': 0.01263880819988903, 'max_leaf_nodes': 211, 'max_depth': 4, 'min_samples_leaf': 24, 'l2_regularization': 1.0914771432563064}. Best is trial 30 with value: 0.7146181722399032.\n"
     ]
    },
    {
     "name": "stderr",
     "output_type": "stream",
     "text": [
      "Best trial: 30. Best value: 0.714618:  34%|███▍      | 68/200 [09:30<18:35,  8.45s/it]"
     ]
    },
    {
     "name": "stdout",
     "output_type": "stream",
     "text": [
      "[I 2025-07-01 23:11:44,892] Trial 67 finished with value: 0.7098426240484687 and parameters: {'learning_rate': 0.06240206443690458, 'max_leaf_nodes': 152, 'max_depth': 10, 'min_samples_leaf': 110, 'l2_regularization': 1.4579690422248928}. Best is trial 30 with value: 0.7146181722399032.\n"
     ]
    },
    {
     "name": "stderr",
     "output_type": "stream",
     "text": [
      "Best trial: 30. Best value: 0.714618:  34%|███▍      | 69/200 [09:42<20:25,  9.36s/it]"
     ]
    },
    {
     "name": "stdout",
     "output_type": "stream",
     "text": [
      "[I 2025-07-01 23:11:56,358] Trial 68 finished with value: 0.7126415148040218 and parameters: {'learning_rate': 0.0785825837646601, 'max_leaf_nodes': 107, 'max_depth': 5, 'min_samples_leaf': 195, 'l2_regularization': 1.571025501030314}. Best is trial 30 with value: 0.7146181722399032.\n"
     ]
    },
    {
     "name": "stderr",
     "output_type": "stream",
     "text": [
      "Best trial: 30. Best value: 0.714618:  35%|███▌      | 70/200 [09:47<17:45,  8.20s/it]"
     ]
    },
    {
     "name": "stdout",
     "output_type": "stream",
     "text": [
      "[I 2025-07-01 23:12:01,842] Trial 69 finished with value: 0.713077655136886 and parameters: {'learning_rate': 0.18009063312482126, 'max_leaf_nodes': 188, 'max_depth': 3, 'min_samples_leaf': 38, 'l2_regularization': 1.307624165184044}. Best is trial 30 with value: 0.7146181722399032.\n"
     ]
    },
    {
     "name": "stderr",
     "output_type": "stream",
     "text": [
      "Best trial: 30. Best value: 0.714618:  36%|███▌      | 71/200 [09:53<16:00,  7.45s/it]"
     ]
    },
    {
     "name": "stdout",
     "output_type": "stream",
     "text": [
      "[I 2025-07-01 23:12:07,550] Trial 70 finished with value: 0.7129695733409063 and parameters: {'learning_rate': 0.29817460136060786, 'max_leaf_nodes': 144, 'max_depth': 2, 'min_samples_leaf': 54, 'l2_regularization': 1.3970019512319978}. Best is trial 30 with value: 0.7146181722399032.\n"
     ]
    },
    {
     "name": "stderr",
     "output_type": "stream",
     "text": [
      "Best trial: 30. Best value: 0.714618:  36%|███▌      | 72/200 [09:56<13:28,  6.31s/it]"
     ]
    },
    {
     "name": "stdout",
     "output_type": "stream",
     "text": [
      "[I 2025-07-01 23:12:11,216] Trial 71 finished with value: 0.7130702571270348 and parameters: {'learning_rate': 0.25031933687676844, 'max_leaf_nodes': 169, 'max_depth': 4, 'min_samples_leaf': 14, 'l2_regularization': 1.6620627572829552}. Best is trial 30 with value: 0.7146181722399032.\n"
     ]
    },
    {
     "name": "stderr",
     "output_type": "stream",
     "text": [
      "Best trial: 30. Best value: 0.714618:  36%|███▋      | 73/200 [10:08<16:37,  7.86s/it]"
     ]
    },
    {
     "name": "stdout",
     "output_type": "stream",
     "text": [
      "[I 2025-07-01 23:12:22,669] Trial 72 finished with value: 0.711801659557433 and parameters: {'learning_rate': 0.038184061278509124, 'max_leaf_nodes': 191, 'max_depth': 4, 'min_samples_leaf': 24, 'l2_regularization': 0.23114648948567737}. Best is trial 30 with value: 0.7146181722399032.\n"
     ]
    },
    {
     "name": "stderr",
     "output_type": "stream",
     "text": [
      "Best trial: 30. Best value: 0.714618:  37%|███▋      | 74/200 [10:13<14:42,  7.00s/it]"
     ]
    },
    {
     "name": "stdout",
     "output_type": "stream",
     "text": [
      "[I 2025-07-01 23:12:27,688] Trial 73 finished with value: 0.7141817982964772 and parameters: {'learning_rate': 0.21176147583470195, 'max_leaf_nodes': 215, 'max_depth': 3, 'min_samples_leaf': 12, 'l2_regularization': 0.1281708596568896}. Best is trial 30 with value: 0.7146181722399032.\n"
     ]
    },
    {
     "name": "stderr",
     "output_type": "stream",
     "text": [
      "Best trial: 30. Best value: 0.714618:  38%|███▊      | 75/200 [10:16<12:16,  5.89s/it]"
     ]
    },
    {
     "name": "stdout",
     "output_type": "stream",
     "text": [
      "[I 2025-07-01 23:12:30,979] Trial 74 finished with value: 0.711352999704847 and parameters: {'learning_rate': 0.20860442927594267, 'max_leaf_nodes': 233, 'max_depth': 6, 'min_samples_leaf': 19, 'l2_regularization': 0.1262195327696261}. Best is trial 30 with value: 0.7146181722399032.\n"
     ]
    },
    {
     "name": "stderr",
     "output_type": "stream",
     "text": [
      "Best trial: 30. Best value: 0.714618:  38%|███▊      | 76/200 [10:23<12:30,  6.06s/it]"
     ]
    },
    {
     "name": "stdout",
     "output_type": "stream",
     "text": [
      "[I 2025-07-01 23:12:37,421] Trial 75 finished with value: 0.7126987821317485 and parameters: {'learning_rate': 0.1524479944835404, 'max_leaf_nodes': 223, 'max_depth': 3, 'min_samples_leaf': 28, 'l2_regularization': 1.2577832494382848}. Best is trial 30 with value: 0.7146181722399032.\n"
     ]
    },
    {
     "name": "stderr",
     "output_type": "stream",
     "text": [
      "Best trial: 30. Best value: 0.714618:  38%|███▊      | 77/200 [10:32<14:10,  6.91s/it]"
     ]
    },
    {
     "name": "stdout",
     "output_type": "stream",
     "text": [
      "[I 2025-07-01 23:12:46,329] Trial 76 finished with value: 0.7129104057062347 and parameters: {'learning_rate': 0.11354779395347452, 'max_leaf_nodes': 211, 'max_depth': 3, 'min_samples_leaf': 13, 'l2_regularization': 0.07357598269787091}. Best is trial 30 with value: 0.7146181722399032.\n"
     ]
    },
    {
     "name": "stderr",
     "output_type": "stream",
     "text": [
      "Best trial: 30. Best value: 0.714618:  39%|███▉      | 78/200 [10:39<14:34,  7.17s/it]"
     ]
    },
    {
     "name": "stdout",
     "output_type": "stream",
     "text": [
      "[I 2025-07-01 23:12:54,104] Trial 77 finished with value: 0.7136693408541035 and parameters: {'learning_rate': 0.19543727927948126, 'max_leaf_nodes': 256, 'max_depth': 2, 'min_samples_leaf': 10, 'l2_regularization': 0.6189925493722479}. Best is trial 30 with value: 0.7146181722399032.\n"
     ]
    },
    {
     "name": "stderr",
     "output_type": "stream",
     "text": [
      "Best trial: 30. Best value: 0.714618:  40%|███▉      | 79/200 [10:44<13:11,  6.54s/it]"
     ]
    },
    {
     "name": "stdout",
     "output_type": "stream",
     "text": [
      "[I 2025-07-01 23:12:59,187] Trial 78 finished with value: 0.7132530647341471 and parameters: {'learning_rate': 0.2578265973055808, 'max_leaf_nodes': 95, 'max_depth': 3, 'min_samples_leaf': 181, 'l2_regularization': 1.7535310059063618}. Best is trial 30 with value: 0.7146181722399032.\n"
     ]
    },
    {
     "name": "stderr",
     "output_type": "stream",
     "text": [
      "Best trial: 30. Best value: 0.714618:  40%|████      | 80/200 [10:55<15:32,  7.77s/it]"
     ]
    },
    {
     "name": "stdout",
     "output_type": "stream",
     "text": [
      "[I 2025-07-01 23:13:09,828] Trial 79 finished with value: 0.6505679112537445 and parameters: {'learning_rate': 0.0029242197729036777, 'max_leaf_nodes': 205, 'max_depth': 3, 'min_samples_leaf': 42, 'l2_regularization': 0.2041265524967586}. Best is trial 30 with value: 0.7146181722399032.\n"
     ]
    },
    {
     "name": "stderr",
     "output_type": "stream",
     "text": [
      "Best trial: 30. Best value: 0.714618:  40%|████      | 81/200 [10:58<12:46,  6.44s/it]"
     ]
    },
    {
     "name": "stdout",
     "output_type": "stream",
     "text": [
      "[I 2025-07-01 23:13:13,165] Trial 80 finished with value: 0.7109550785506062 and parameters: {'learning_rate': 0.22168372826611255, 'max_leaf_nodes': 124, 'max_depth': 9, 'min_samples_leaf': 34, 'l2_regularization': 1.5373970072622642}. Best is trial 30 with value: 0.7146181722399032.\n"
     ]
    },
    {
     "name": "stderr",
     "output_type": "stream",
     "text": [
      "Best trial: 30. Best value: 0.714618:  41%|████      | 82/200 [11:04<11:52,  6.04s/it]"
     ]
    },
    {
     "name": "stdout",
     "output_type": "stream",
     "text": [
      "[I 2025-07-01 23:13:18,269] Trial 81 finished with value: 0.7121481078729743 and parameters: {'learning_rate': 0.15903359174222423, 'max_leaf_nodes': 183, 'max_depth': 4, 'min_samples_leaf': 21, 'l2_regularization': 0.05898255049683637}. Best is trial 30 with value: 0.7146181722399032.\n"
     ]
    },
    {
     "name": "stderr",
     "output_type": "stream",
     "text": [
      "Best trial: 30. Best value: 0.714618:  42%|████▏     | 83/200 [11:07<10:19,  5.29s/it]"
     ]
    },
    {
     "name": "stdout",
     "output_type": "stream",
     "text": [
      "[I 2025-07-01 23:13:21,818] Trial 82 finished with value: 0.7124458651298512 and parameters: {'learning_rate': 0.26210511519647384, 'max_leaf_nodes': 175, 'max_depth': 4, 'min_samples_leaf': 25, 'l2_regularization': 0.1468115420709475}. Best is trial 30 with value: 0.7146181722399032.\n"
     ]
    },
    {
     "name": "stderr",
     "output_type": "stream",
     "text": [
      "Best trial: 83. Best value: 0.715096:  42%|████▏     | 84/200 [11:13<10:28,  5.42s/it]"
     ]
    },
    {
     "name": "stdout",
     "output_type": "stream",
     "text": [
      "[I 2025-07-01 23:13:27,518] Trial 83 finished with value: 0.7150961500692044 and parameters: {'learning_rate': 0.13997227939492704, 'max_leaf_nodes': 160, 'max_depth': 4, 'min_samples_leaf': 16, 'l2_regularization': 0.3132333287791904}. Best is trial 83 with value: 0.7150961500692044.\n"
     ]
    },
    {
     "name": "stderr",
     "output_type": "stream",
     "text": [
      "Best trial: 83. Best value: 0.715096:  42%|████▎     | 85/200 [11:19<10:44,  5.60s/it]"
     ]
    },
    {
     "name": "stdout",
     "output_type": "stream",
     "text": [
      "[I 2025-07-01 23:13:33,558] Trial 84 finished with value: 0.7135410146095772 and parameters: {'learning_rate': 0.13091260214516137, 'max_leaf_nodes': 163, 'max_depth': 4, 'min_samples_leaf': 16, 'l2_regularization': 0.2791505024604453}. Best is trial 83 with value: 0.7150961500692044.\n"
     ]
    },
    {
     "name": "stderr",
     "output_type": "stream",
     "text": [
      "Best trial: 83. Best value: 0.715096:  43%|████▎     | 86/200 [11:24<10:12,  5.37s/it]"
     ]
    },
    {
     "name": "stdout",
     "output_type": "stream",
     "text": [
      "[I 2025-07-01 23:13:38,393] Trial 85 finished with value: 0.7125774210800279 and parameters: {'learning_rate': 0.1770731271432922, 'max_leaf_nodes': 157, 'max_depth': 4, 'min_samples_leaf': 31, 'l2_regularization': 1.4644118558829238}. Best is trial 83 with value: 0.7150961500692044.\n"
     ]
    },
    {
     "name": "stderr",
     "output_type": "stream",
     "text": [
      "Best trial: 83. Best value: 0.715096:  44%|████▎     | 87/200 [11:33<12:16,  6.52s/it]"
     ]
    },
    {
     "name": "stdout",
     "output_type": "stream",
     "text": [
      "[I 2025-07-01 23:13:47,594] Trial 86 finished with value: 0.7127472937195141 and parameters: {'learning_rate': 0.09685309255553161, 'max_leaf_nodes': 196, 'max_depth': 3, 'min_samples_leaf': 25, 'l2_regularization': 1.1702798065917328}. Best is trial 83 with value: 0.7150961500692044.\n"
     ]
    },
    {
     "name": "stderr",
     "output_type": "stream",
     "text": [
      "Best trial: 83. Best value: 0.715096:  44%|████▍     | 88/200 [11:37<10:58,  5.88s/it]"
     ]
    },
    {
     "name": "stdout",
     "output_type": "stream",
     "text": [
      "[I 2025-07-01 23:13:51,988] Trial 87 finished with value: 0.7113449783057055 and parameters: {'learning_rate': 0.14169818163600237, 'max_leaf_nodes': 109, 'max_depth': 5, 'min_samples_leaf': 21, 'l2_regularization': 0.3899225463214862}. Best is trial 83 with value: 0.7150961500692044.\n"
     ]
    },
    {
     "name": "stderr",
     "output_type": "stream",
     "text": [
      "Best trial: 83. Best value: 0.715096:  44%|████▍     | 89/200 [11:43<10:35,  5.72s/it]"
     ]
    },
    {
     "name": "stdout",
     "output_type": "stream",
     "text": [
      "[I 2025-07-01 23:13:57,333] Trial 88 finished with value: 0.7142755243713487 and parameters: {'learning_rate': 0.23265111149026352, 'max_leaf_nodes': 218, 'max_depth': 3, 'min_samples_leaf': 10, 'l2_regularization': 1.8760115626094191}. Best is trial 83 with value: 0.7150961500692044.\n"
     ]
    },
    {
     "name": "stderr",
     "output_type": "stream",
     "text": [
      "Best trial: 83. Best value: 0.715096:  45%|████▌     | 90/200 [11:49<11:03,  6.03s/it]"
     ]
    },
    {
     "name": "stdout",
     "output_type": "stream",
     "text": [
      "[I 2025-07-01 23:14:04,087] Trial 89 finished with value: 0.7133043797424621 and parameters: {'learning_rate': 0.21483618785221092, 'max_leaf_nodes': 229, 'max_depth': 2, 'min_samples_leaf': 44, 'l2_regularization': 1.9979319976287773}. Best is trial 83 with value: 0.7150961500692044.\n"
     ]
    },
    {
     "name": "stderr",
     "output_type": "stream",
     "text": [
      "Best trial: 83. Best value: 0.715096:  46%|████▌     | 91/200 [11:53<09:49,  5.41s/it]"
     ]
    },
    {
     "name": "stdout",
     "output_type": "stream",
     "text": [
      "[I 2025-07-01 23:14:08,041] Trial 90 finished with value: 0.7130874118254574 and parameters: {'learning_rate': 0.298897831278707, 'max_leaf_nodes': 140, 'max_depth': 3, 'min_samples_leaf': 14, 'l2_regularization': 1.9326366623908926}. Best is trial 83 with value: 0.7150961500692044.\n"
     ]
    },
    {
     "name": "stderr",
     "output_type": "stream",
     "text": [
      "Best trial: 83. Best value: 0.715096:  46%|████▌     | 92/200 [12:00<10:17,  5.72s/it]"
     ]
    },
    {
     "name": "stdout",
     "output_type": "stream",
     "text": [
      "[I 2025-07-01 23:14:14,486] Trial 91 finished with value: 0.7125563087831499 and parameters: {'learning_rate': 0.18144081969733394, 'max_leaf_nodes': 179, 'max_depth': 3, 'min_samples_leaf': 10, 'l2_regularization': 1.869933136620545}. Best is trial 83 with value: 0.7150961500692044.\n"
     ]
    },
    {
     "name": "stderr",
     "output_type": "stream",
     "text": [
      "Best trial: 83. Best value: 0.715096:  46%|████▋     | 93/200 [12:04<09:40,  5.43s/it]"
     ]
    },
    {
     "name": "stdout",
     "output_type": "stream",
     "text": [
      "[I 2025-07-01 23:14:19,235] Trial 92 finished with value: 0.7132175852690444 and parameters: {'learning_rate': 0.25376583091489896, 'max_leaf_nodes': 218, 'max_depth': 3, 'min_samples_leaf': 19, 'l2_regularization': 1.7788401948070836}. Best is trial 83 with value: 0.7150961500692044.\n"
     ]
    },
    {
     "name": "stderr",
     "output_type": "stream",
     "text": [
      "Best trial: 83. Best value: 0.715096:  47%|████▋     | 94/200 [12:08<08:44,  4.95s/it]"
     ]
    },
    {
     "name": "stdout",
     "output_type": "stream",
     "text": [
      "[I 2025-07-01 23:14:23,078] Trial 93 finished with value: 0.7128546654652851 and parameters: {'learning_rate': 0.22067468582302605, 'max_leaf_nodes': 188, 'max_depth': 4, 'min_samples_leaf': 30, 'l2_regularization': 0.01209375272628635}. Best is trial 83 with value: 0.7150961500692044.\n"
     ]
    },
    {
     "name": "stderr",
     "output_type": "stream",
     "text": [
      "Best trial: 83. Best value: 0.715096:  48%|████▊     | 95/200 [12:16<09:59,  5.71s/it]"
     ]
    },
    {
     "name": "stdout",
     "output_type": "stream",
     "text": [
      "[I 2025-07-01 23:14:30,564] Trial 94 finished with value: 0.7131657187526416 and parameters: {'learning_rate': 0.16290478641446332, 'max_leaf_nodes': 148, 'max_depth': 2, 'min_samples_leaf': 36, 'l2_regularization': 1.5728249466853306}. Best is trial 83 with value: 0.7150961500692044.\n"
     ]
    },
    {
     "name": "stderr",
     "output_type": "stream",
     "text": [
      "Best trial: 83. Best value: 0.715096:  48%|████▊     | 96/200 [12:22<09:54,  5.72s/it]"
     ]
    },
    {
     "name": "stdout",
     "output_type": "stream",
     "text": [
      "[I 2025-07-01 23:14:36,300] Trial 95 finished with value: 0.7138773834647386 and parameters: {'learning_rate': 0.20209392913884405, 'max_leaf_nodes': 207, 'max_depth': 3, 'min_samples_leaf': 15, 'l2_regularization': 1.6871242089819791}. Best is trial 83 with value: 0.7150961500692044.\n"
     ]
    },
    {
     "name": "stderr",
     "output_type": "stream",
     "text": [
      "Best trial: 83. Best value: 0.715096:  48%|████▊     | 97/200 [12:30<11:10,  6.51s/it]"
     ]
    },
    {
     "name": "stdout",
     "output_type": "stream",
     "text": [
      "[I 2025-07-01 23:14:44,639] Trial 96 finished with value: 0.7123341928110828 and parameters: {'learning_rate': 0.10483246396442242, 'max_leaf_nodes': 215, 'max_depth': 3, 'min_samples_leaf': 16, 'l2_regularization': 1.6814876001966574}. Best is trial 83 with value: 0.7150961500692044.\n"
     ]
    },
    {
     "name": "stderr",
     "output_type": "stream",
     "text": [
      "Best trial: 83. Best value: 0.715096:  49%|████▉     | 98/200 [12:36<10:51,  6.38s/it]"
     ]
    },
    {
     "name": "stdout",
     "output_type": "stream",
     "text": [
      "[I 2025-07-01 23:14:50,739] Trial 97 finished with value: 0.7133046064098852 and parameters: {'learning_rate': 0.1869863334376088, 'max_leaf_nodes': 244, 'max_depth': 3, 'min_samples_leaf': 50, 'l2_regularization': 1.8149650444956769}. Best is trial 83 with value: 0.7150961500692044.\n"
     ]
    },
    {
     "name": "stderr",
     "output_type": "stream",
     "text": [
      "Best trial: 83. Best value: 0.715096:  50%|████▉     | 99/200 [12:44<11:48,  7.01s/it]"
     ]
    },
    {
     "name": "stdout",
     "output_type": "stream",
     "text": [
      "[I 2025-07-01 23:14:59,224] Trial 98 finished with value: 0.71397709838568 and parameters: {'learning_rate': 0.1334492978124086, 'max_leaf_nodes': 200, 'max_depth': 2, 'min_samples_leaf': 22, 'l2_regularization': 1.7562493590504484}. Best is trial 83 with value: 0.7150961500692044.\n"
     ]
    },
    {
     "name": "stderr",
     "output_type": "stream",
     "text": [
      "Best trial: 83. Best value: 0.715096:  50%|█████     | 100/200 [12:53<12:18,  7.39s/it]"
     ]
    },
    {
     "name": "stdout",
     "output_type": "stream",
     "text": [
      "[I 2025-07-01 23:15:07,484] Trial 99 finished with value: 0.7128454243442167 and parameters: {'learning_rate': 0.13974049803506472, 'max_leaf_nodes': 195, 'max_depth': 2, 'min_samples_leaf': 22, 'l2_regularization': 1.6165028214551105}. Best is trial 83 with value: 0.7150961500692044.\n"
     ]
    },
    {
     "name": "stderr",
     "output_type": "stream",
     "text": [
      "Best trial: 83. Best value: 0.715096:  50%|█████     | 101/200 [12:59<11:25,  6.92s/it]"
     ]
    },
    {
     "name": "stdout",
     "output_type": "stream",
     "text": [
      "[I 2025-07-01 23:15:13,328] Trial 100 finished with value: 0.7145316456659039 and parameters: {'learning_rate': 0.2688545840760211, 'max_leaf_nodes': 238, 'max_depth': 2, 'min_samples_leaf': 28, 'l2_regularization': 0.7076634246820988}. Best is trial 83 with value: 0.7150961500692044.\n"
     ]
    },
    {
     "name": "stderr",
     "output_type": "stream",
     "text": [
      "Best trial: 83. Best value: 0.715096:  51%|█████     | 102/200 [13:05<11:08,  6.83s/it]"
     ]
    },
    {
     "name": "stdout",
     "output_type": "stream",
     "text": [
      "[I 2025-07-01 23:15:19,924] Trial 101 finished with value: 0.7139704786992698 and parameters: {'learning_rate': 0.2754115976764018, 'max_leaf_nodes': 225, 'max_depth': 2, 'min_samples_leaf': 27, 'l2_regularization': 0.7780041838117853}. Best is trial 83 with value: 0.7150961500692044.\n"
     ]
    },
    {
     "name": "stderr",
     "output_type": "stream",
     "text": [
      "Best trial: 83. Best value: 0.715096:  52%|█████▏    | 103/200 [13:12<11:09,  6.90s/it]"
     ]
    },
    {
     "name": "stdout",
     "output_type": "stream",
     "text": [
      "[I 2025-07-01 23:15:26,986] Trial 102 finished with value: 0.7136954546140457 and parameters: {'learning_rate': 0.2687217463762881, 'max_leaf_nodes': 225, 'max_depth': 2, 'min_samples_leaf': 28, 'l2_regularization': 0.775907270011666}. Best is trial 83 with value: 0.7150961500692044.\n"
     ]
    },
    {
     "name": "stderr",
     "output_type": "stream",
     "text": [
      "Best trial: 83. Best value: 0.715096:  52%|█████▏    | 104/200 [13:20<11:17,  7.06s/it]"
     ]
    },
    {
     "name": "stdout",
     "output_type": "stream",
     "text": [
      "[I 2025-07-01 23:15:34,431] Trial 103 finished with value: 0.7127210358744592 and parameters: {'learning_rate': 0.23423946262806608, 'max_leaf_nodes': 239, 'max_depth': 2, 'min_samples_leaf': 96, 'l2_regularization': 0.6784217404258465}. Best is trial 83 with value: 0.7150961500692044.\n"
     ]
    },
    {
     "name": "stderr",
     "output_type": "stream",
     "text": [
      "Best trial: 83. Best value: 0.715096:  52%|█████▎    | 105/200 [13:28<11:49,  7.47s/it]"
     ]
    },
    {
     "name": "stdout",
     "output_type": "stream",
     "text": [
      "[I 2025-07-01 23:15:42,844] Trial 104 finished with value: 0.7123699700500765 and parameters: {'learning_rate': 0.11888350122704965, 'max_leaf_nodes': 235, 'max_depth': 2, 'min_samples_leaf': 40, 'l2_regularization': 0.9550612216664289}. Best is trial 83 with value: 0.7150961500692044.\n"
     ]
    },
    {
     "name": "stderr",
     "output_type": "stream",
     "text": [
      "Best trial: 83. Best value: 0.715096:  53%|█████▎    | 106/200 [13:35<11:20,  7.24s/it]"
     ]
    },
    {
     "name": "stdout",
     "output_type": "stream",
     "text": [
      "[I 2025-07-01 23:15:49,542] Trial 105 finished with value: 0.7129344218054208 and parameters: {'learning_rate': 0.2776716173319032, 'max_leaf_nodes': 228, 'max_depth': 2, 'min_samples_leaf': 32, 'l2_regularization': 0.8284088087458674}. Best is trial 83 with value: 0.7150961500692044.\n"
     ]
    },
    {
     "name": "stderr",
     "output_type": "stream",
     "text": [
      "Best trial: 83. Best value: 0.715096:  54%|█████▎    | 107/200 [13:41<10:46,  6.96s/it]"
     ]
    },
    {
     "name": "stdout",
     "output_type": "stream",
     "text": [
      "[I 2025-07-01 23:15:55,846] Trial 106 finished with value: 0.7128809118905639 and parameters: {'learning_rate': 0.23405471654655205, 'max_leaf_nodes': 248, 'max_depth': 2, 'min_samples_leaf': 19, 'l2_regularization': 0.7081027763769768}. Best is trial 83 with value: 0.7150961500692044.\n"
     ]
    },
    {
     "name": "stderr",
     "output_type": "stream",
     "text": [
      "Best trial: 83. Best value: 0.715096:  54%|█████▍    | 108/200 [13:50<11:28,  7.48s/it]"
     ]
    },
    {
     "name": "stdout",
     "output_type": "stream",
     "text": [
      "[I 2025-07-01 23:16:04,560] Trial 107 finished with value: 0.6879090287770689 and parameters: {'learning_rate': 0.023472971819123896, 'max_leaf_nodes': 232, 'max_depth': 2, 'min_samples_leaf': 25, 'l2_regularization': 1.8910061991843305}. Best is trial 83 with value: 0.7150961500692044.\n"
     ]
    },
    {
     "name": "stderr",
     "output_type": "stream",
     "text": [
      "Best trial: 83. Best value: 0.715096:  55%|█████▍    | 109/200 [13:58<11:37,  7.66s/it]"
     ]
    },
    {
     "name": "stdout",
     "output_type": "stream",
     "text": [
      "[I 2025-07-01 23:16:12,635] Trial 108 finished with value: 0.7121618383584727 and parameters: {'learning_rate': 0.15732942345972498, 'max_leaf_nodes': 221, 'max_depth': 2, 'min_samples_leaf': 36, 'l2_regularization': 1.0509267386490924}. Best is trial 83 with value: 0.7150961500692044.\n"
     ]
    },
    {
     "name": "stderr",
     "output_type": "stream",
     "text": [
      "Best trial: 83. Best value: 0.715096:  55%|█████▌    | 110/200 [14:04<10:50,  7.23s/it]"
     ]
    },
    {
     "name": "stdout",
     "output_type": "stream",
     "text": [
      "[I 2025-07-01 23:16:18,858] Trial 109 finished with value: 0.7131783719099646 and parameters: {'learning_rate': 0.20086086915817622, 'max_leaf_nodes': 84, 'max_depth': 2, 'min_samples_leaf': 28, 'l2_regularization': 0.9151089030386081}. Best is trial 83 with value: 0.7150961500692044.\n"
     ]
    },
    {
     "name": "stderr",
     "output_type": "stream",
     "text": [
      "Best trial: 83. Best value: 0.715096:  56%|█████▌    | 111/200 [14:08<09:10,  6.18s/it]"
     ]
    },
    {
     "name": "stdout",
     "output_type": "stream",
     "text": [
      "[I 2025-07-01 23:16:22,601] Trial 110 finished with value: 0.7132583673926866 and parameters: {'learning_rate': 0.2975804818582192, 'max_leaf_nodes': 215, 'max_depth': 3, 'min_samples_leaf': 13, 'l2_regularization': 0.42874228255217917}. Best is trial 83 with value: 0.7150961500692044.\n"
     ]
    },
    {
     "name": "stderr",
     "output_type": "stream",
     "text": [
      "Best trial: 83. Best value: 0.715096:  56%|█████▌    | 112/200 [14:14<09:11,  6.27s/it]"
     ]
    },
    {
     "name": "stdout",
     "output_type": "stream",
     "text": [
      "[I 2025-07-01 23:16:29,072] Trial 111 finished with value: 0.7130897802280777 and parameters: {'learning_rate': 0.1688980437470856, 'max_leaf_nodes': 200, 'max_depth': 3, 'min_samples_leaf': 21, 'l2_regularization': 0.48774259193271785}. Best is trial 83 with value: 0.7150961500692044.\n"
     ]
    },
    {
     "name": "stderr",
     "output_type": "stream",
     "text": [
      "Best trial: 83. Best value: 0.715096:  56%|█████▋    | 113/200 [14:19<08:25,  5.81s/it]"
     ]
    },
    {
     "name": "stdout",
     "output_type": "stream",
     "text": [
      "[I 2025-07-01 23:16:33,824] Trial 112 finished with value: 0.7134629351056837 and parameters: {'learning_rate': 0.22564076466086627, 'max_leaf_nodes': 209, 'max_depth': 3, 'min_samples_leaf': 32, 'l2_regularization': 0.25233896772761477}. Best is trial 83 with value: 0.7150961500692044.\n"
     ]
    },
    {
     "name": "stderr",
     "output_type": "stream",
     "text": [
      "Best trial: 83. Best value: 0.715096:  57%|█████▋    | 114/200 [14:26<09:00,  6.29s/it]"
     ]
    },
    {
     "name": "stdout",
     "output_type": "stream",
     "text": [
      "[I 2025-07-01 23:16:41,222] Trial 113 finished with value: 0.7139332174531797 and parameters: {'learning_rate': 0.26503051112274956, 'max_leaf_nodes': 200, 'max_depth': 2, 'min_samples_leaf': 122, 'l2_regularization': 0.18387618249054596}. Best is trial 83 with value: 0.7150961500692044.\n"
     ]
    },
    {
     "name": "stderr",
     "output_type": "stream",
     "text": [
      "Best trial: 83. Best value: 0.715096:  57%|█████▊    | 115/200 [14:32<08:33,  6.05s/it]"
     ]
    },
    {
     "name": "stdout",
     "output_type": "stream",
     "text": [
      "[I 2025-07-01 23:16:46,697] Trial 114 finished with value: 0.7144999189971983 and parameters: {'learning_rate': 0.20369278230542687, 'max_leaf_nodes': 171, 'max_depth': 3, 'min_samples_leaf': 64, 'l2_regularization': 1.9635125356980523}. Best is trial 83 with value: 0.7150961500692044.\n"
     ]
    },
    {
     "name": "stderr",
     "output_type": "stream",
     "text": [
      "Best trial: 83. Best value: 0.715096:  58%|█████▊    | 116/200 [14:38<08:36,  6.14s/it]"
     ]
    },
    {
     "name": "stdout",
     "output_type": "stream",
     "text": [
      "[I 2025-07-01 23:16:53,074] Trial 115 finished with value: 0.7132402147507418 and parameters: {'learning_rate': 0.1894490741408428, 'max_leaf_nodes': 93, 'max_depth': 3, 'min_samples_leaf': 24, 'l2_regularization': 1.845456012043238}. Best is trial 83 with value: 0.7150961500692044.\n"
     ]
    },
    {
     "name": "stderr",
     "output_type": "stream",
     "text": [
      "Best trial: 83. Best value: 0.715096:  58%|█████▊    | 117/200 [14:44<08:07,  5.87s/it]"
     ]
    },
    {
     "name": "stdout",
     "output_type": "stream",
     "text": [
      "[I 2025-07-01 23:16:58,297] Trial 116 finished with value: 0.7139221629560559 and parameters: {'learning_rate': 0.2366243366574746, 'max_leaf_nodes': 167, 'max_depth': 3, 'min_samples_leaf': 65, 'l2_regularization': 1.9628739539789783}. Best is trial 83 with value: 0.7150961500692044.\n"
     ]
    },
    {
     "name": "stderr",
     "output_type": "stream",
     "text": [
      "Best trial: 83. Best value: 0.715096:  59%|█████▉    | 118/200 [14:52<09:03,  6.63s/it]"
     ]
    },
    {
     "name": "stdout",
     "output_type": "stream",
     "text": [
      "[I 2025-07-01 23:17:06,699] Trial 117 finished with value: 0.7123955274819143 and parameters: {'learning_rate': 0.12670255916749396, 'max_leaf_nodes': 115, 'max_depth': 2, 'min_samples_leaf': 40, 'l2_regularization': 1.9002236809788173}. Best is trial 83 with value: 0.7150961500692044.\n"
     ]
    },
    {
     "name": "stderr",
     "output_type": "stream",
     "text": [
      "Best trial: 83. Best value: 0.715096:  60%|█████▉    | 119/200 [15:00<09:34,  7.09s/it]"
     ]
    },
    {
     "name": "stdout",
     "output_type": "stream",
     "text": [
      "[I 2025-07-01 23:17:14,857] Trial 118 finished with value: 0.7138112879595108 and parameters: {'learning_rate': 0.1466092183738564, 'max_leaf_nodes': 173, 'max_depth': 3, 'min_samples_leaf': 78, 'l2_regularization': 0.5681665559402345}. Best is trial 83 with value: 0.7150961500692044.\n"
     ]
    },
    {
     "name": "stderr",
     "output_type": "stream",
     "text": [
      "Best trial: 83. Best value: 0.715096:  60%|██████    | 120/200 [15:06<08:48,  6.61s/it]"
     ]
    },
    {
     "name": "stdout",
     "output_type": "stream",
     "text": [
      "[I 2025-07-01 23:17:20,356] Trial 119 finished with value: 0.7136553282797699 and parameters: {'learning_rate': 0.20972486506260235, 'max_leaf_nodes': 61, 'max_depth': 3, 'min_samples_leaf': 17, 'l2_regularization': 1.9550793421475539}. Best is trial 83 with value: 0.7150961500692044.\n"
     ]
    },
    {
     "name": "stderr",
     "output_type": "stream",
     "text": [
      "Best trial: 83. Best value: 0.715096:  60%|██████    | 121/200 [15:14<09:27,  7.18s/it]"
     ]
    },
    {
     "name": "stdout",
     "output_type": "stream",
     "text": [
      "[I 2025-07-01 23:17:28,872] Trial 120 finished with value: 0.7106461429477265 and parameters: {'learning_rate': 0.08744464930193485, 'max_leaf_nodes': 102, 'max_depth': 2, 'min_samples_leaf': 13, 'l2_regularization': 1.738276971964205}. Best is trial 83 with value: 0.7150961500692044.\n"
     ]
    },
    {
     "name": "stderr",
     "output_type": "stream",
     "text": [
      "Best trial: 83. Best value: 0.715096:  61%|██████    | 122/200 [15:18<08:00,  6.16s/it]"
     ]
    },
    {
     "name": "stdout",
     "output_type": "stream",
     "text": [
      "[I 2025-07-01 23:17:32,639] Trial 121 finished with value: 0.7116398563313587 and parameters: {'learning_rate': 0.2609468987872005, 'max_leaf_nodes': 190, 'max_depth': 4, 'min_samples_leaf': 28, 'l2_regularization': 1.8070806066756915}. Best is trial 83 with value: 0.7150961500692044.\n"
     ]
    },
    {
     "name": "stderr",
     "output_type": "stream",
     "text": [
      "Best trial: 83. Best value: 0.715096:  62%|██████▏   | 123/200 [15:25<08:23,  6.54s/it]"
     ]
    },
    {
     "name": "stdout",
     "output_type": "stream",
     "text": [
      "[I 2025-07-01 23:17:40,074] Trial 122 finished with value: 0.7127470356045288 and parameters: {'learning_rate': 0.17093211008572215, 'max_leaf_nodes': 160, 'max_depth': 3, 'min_samples_leaf': 86, 'l2_regularization': 0.08941413252989812}. Best is trial 83 with value: 0.7150961500692044.\n"
     ]
    },
    {
     "name": "stderr",
     "output_type": "stream",
     "text": [
      "Best trial: 83. Best value: 0.715096:  62%|██████▏   | 124/200 [15:29<07:12,  5.69s/it]"
     ]
    },
    {
     "name": "stdout",
     "output_type": "stream",
     "text": [
      "[I 2025-07-01 23:17:43,792] Trial 123 finished with value: 0.7126177073546075 and parameters: {'learning_rate': 0.20309860682938602, 'max_leaf_nodes': 153, 'max_depth': 6, 'min_samples_leaf': 19, 'l2_regularization': 1.8533734265022495}. Best is trial 83 with value: 0.7150961500692044.\n"
     ]
    },
    {
     "name": "stderr",
     "output_type": "stream",
     "text": [
      "Best trial: 83. Best value: 0.715096:  62%|██████▎   | 125/200 [15:33<06:23,  5.11s/it]"
     ]
    },
    {
     "name": "stdout",
     "output_type": "stream",
     "text": [
      "[I 2025-07-01 23:17:47,540] Trial 124 finished with value: 0.7123543152434639 and parameters: {'learning_rate': 0.2760204538632311, 'max_leaf_nodes': 180, 'max_depth': 3, 'min_samples_leaf': 35, 'l2_regularization': 0.34588654412635333}. Best is trial 83 with value: 0.7150961500692044.\n"
     ]
    },
    {
     "name": "stderr",
     "output_type": "stream",
     "text": [
      "Best trial: 83. Best value: 0.715096:  63%|██████▎   | 126/200 [15:37<05:53,  4.78s/it]"
     ]
    },
    {
     "name": "stdout",
     "output_type": "stream",
     "text": [
      "[I 2025-07-01 23:17:51,538] Trial 125 finished with value: 0.7150584647763915 and parameters: {'learning_rate': 0.23560805750015046, 'max_leaf_nodes': 186, 'max_depth': 4, 'min_samples_leaf': 10, 'l2_regularization': 0.8610071084062106}. Best is trial 83 with value: 0.7150961500692044.\n"
     ]
    },
    {
     "name": "stderr",
     "output_type": "stream",
     "text": [
      "Best trial: 83. Best value: 0.715096:  64%|██████▎   | 127/200 [15:41<05:32,  4.55s/it]"
     ]
    },
    {
     "name": "stdout",
     "output_type": "stream",
     "text": [
      "[I 2025-07-01 23:17:55,571] Trial 126 finished with value: 0.714166341426421 and parameters: {'learning_rate': 0.24184260681473552, 'max_leaf_nodes': 168, 'max_depth': 4, 'min_samples_leaf': 13, 'l2_regularization': 0.811263571981429}. Best is trial 83 with value: 0.7150961500692044.\n"
     ]
    },
    {
     "name": "stderr",
     "output_type": "stream",
     "text": [
      "Best trial: 83. Best value: 0.715096:  64%|██████▍   | 128/200 [15:45<05:09,  4.31s/it]"
     ]
    },
    {
     "name": "stdout",
     "output_type": "stream",
     "text": [
      "[I 2025-07-01 23:17:59,295] Trial 127 finished with value: 0.7132377081791399 and parameters: {'learning_rate': 0.23611341824127444, 'max_leaf_nodes': 171, 'max_depth': 4, 'min_samples_leaf': 13, 'l2_regularization': 0.9551840419649188}. Best is trial 83 with value: 0.7150961500692044.\n"
     ]
    },
    {
     "name": "stderr",
     "output_type": "stream",
     "text": [
      "Best trial: 83. Best value: 0.715096:  64%|██████▍   | 129/200 [15:49<05:01,  4.24s/it]"
     ]
    },
    {
     "name": "stdout",
     "output_type": "stream",
     "text": [
      "[I 2025-07-01 23:18:03,392] Trial 128 finished with value: 0.7132510083677616 and parameters: {'learning_rate': 0.18120847905982324, 'max_leaf_nodes': 133, 'max_depth': 5, 'min_samples_leaf': 22, 'l2_regularization': 1.1114929799041762}. Best is trial 83 with value: 0.7150961500692044.\n"
     ]
    },
    {
     "name": "stderr",
     "output_type": "stream",
     "text": [
      "Best trial: 83. Best value: 0.715096:  65%|██████▌   | 130/200 [16:01<07:51,  6.74s/it]"
     ]
    },
    {
     "name": "stdout",
     "output_type": "stream",
     "text": [
      "[I 2025-07-01 23:18:15,969] Trial 129 finished with value: 0.6745315572235713 and parameters: {'learning_rate': 0.005997800435090019, 'max_leaf_nodes': 163, 'max_depth': 4, 'min_samples_leaf': 10, 'l2_regularization': 0.8501462268797689}. Best is trial 83 with value: 0.7150961500692044.\n"
     ]
    },
    {
     "name": "stderr",
     "output_type": "stream",
     "text": [
      "Best trial: 83. Best value: 0.715096:  66%|██████▌   | 131/200 [16:06<07:11,  6.25s/it]"
     ]
    },
    {
     "name": "stdout",
     "output_type": "stream",
     "text": [
      "[I 2025-07-01 23:18:21,059] Trial 130 finished with value: 0.7130982484331948 and parameters: {'learning_rate': 0.15117661015028333, 'max_leaf_nodes': 175, 'max_depth': 4, 'min_samples_leaf': 17, 'l2_regularization': 0.8961726603262689}. Best is trial 83 with value: 0.7150961500692044.\n"
     ]
    },
    {
     "name": "stderr",
     "output_type": "stream",
     "text": [
      "Best trial: 83. Best value: 0.715096:  66%|██████▌   | 132/200 [16:09<05:59,  5.29s/it]"
     ]
    },
    {
     "name": "stdout",
     "output_type": "stream",
     "text": [
      "[I 2025-07-01 23:18:24,118] Trial 131 finished with value: 0.7102905008064118 and parameters: {'learning_rate': 0.24091038341437174, 'max_leaf_nodes': 167, 'max_depth': 7, 'min_samples_leaf': 10, 'l2_regularization': 0.7420916020544635}. Best is trial 83 with value: 0.7150961500692044.\n"
     ]
    },
    {
     "name": "stderr",
     "output_type": "stream",
     "text": [
      "Best trial: 83. Best value: 0.715096:  66%|██████▋   | 133/200 [16:14<05:31,  4.95s/it]"
     ]
    },
    {
     "name": "stdout",
     "output_type": "stream",
     "text": [
      "[I 2025-07-01 23:18:28,268] Trial 132 finished with value: 0.7128080985081185 and parameters: {'learning_rate': 0.29862717263831745, 'max_leaf_nodes': 218, 'max_depth': 3, 'min_samples_leaf': 26, 'l2_regularization': 0.6460289993343111}. Best is trial 83 with value: 0.7150961500692044.\n"
     ]
    },
    {
     "name": "stderr",
     "output_type": "stream",
     "text": [
      "Best trial: 83. Best value: 0.715096:  67%|██████▋   | 134/200 [16:18<05:14,  4.76s/it]"
     ]
    },
    {
     "name": "stdout",
     "output_type": "stream",
     "text": [
      "[I 2025-07-01 23:18:32,588] Trial 133 finished with value: 0.7130295472653516 and parameters: {'learning_rate': 0.21888333158304762, 'max_leaf_nodes': 183, 'max_depth': 4, 'min_samples_leaf': 20, 'l2_regularization': 0.8588267284492658}. Best is trial 83 with value: 0.7150961500692044.\n"
     ]
    },
    {
     "name": "stderr",
     "output_type": "stream",
     "text": [
      "Best trial: 83. Best value: 0.715096:  68%|██████▊   | 135/200 [16:22<05:06,  4.71s/it]"
     ]
    },
    {
     "name": "stdout",
     "output_type": "stream",
     "text": [
      "[I 2025-07-01 23:18:37,183] Trial 134 finished with value: 0.7134475255607551 and parameters: {'learning_rate': 0.2665478393971465, 'max_leaf_nodes': 84, 'max_depth': 3, 'min_samples_leaf': 15, 'l2_regularization': 0.7756549515042406}. Best is trial 83 with value: 0.7150961500692044.\n"
     ]
    },
    {
     "name": "stderr",
     "output_type": "stream",
     "text": [
      "Best trial: 83. Best value: 0.715096:  68%|██████▊   | 136/200 [16:29<05:29,  5.14s/it]"
     ]
    },
    {
     "name": "stdout",
     "output_type": "stream",
     "text": [
      "[I 2025-07-01 23:18:43,335] Trial 135 finished with value: 0.7127905218561589 and parameters: {'learning_rate': 0.18939831270970872, 'max_leaf_nodes': 202, 'max_depth': 3, 'min_samples_leaf': 24, 'l2_regularization': 0.9407852136233601}. Best is trial 83 with value: 0.7150961500692044.\n"
     ]
    },
    {
     "name": "stderr",
     "output_type": "stream",
     "text": [
      "Best trial: 83. Best value: 0.715096:  68%|██████▊   | 137/200 [16:33<05:07,  4.88s/it]"
     ]
    },
    {
     "name": "stdout",
     "output_type": "stream",
     "text": [
      "[I 2025-07-01 23:18:47,616] Trial 136 finished with value: 0.713800379617268 and parameters: {'learning_rate': 0.21433677853872113, 'max_leaf_nodes': 110, 'max_depth': 4, 'min_samples_leaf': 31, 'l2_regularization': 1.0030619240124012}. Best is trial 83 with value: 0.7150961500692044.\n"
     ]
    },
    {
     "name": "stderr",
     "output_type": "stream",
     "text": [
      "Best trial: 83. Best value: 0.715096:  69%|██████▉   | 138/200 [16:39<05:26,  5.26s/it]"
     ]
    },
    {
     "name": "stdout",
     "output_type": "stream",
     "text": [
      "[I 2025-07-01 23:18:53,759] Trial 137 finished with value: 0.7129976897780008 and parameters: {'learning_rate': 0.24599533172995605, 'max_leaf_nodes': 177, 'max_depth': 2, 'min_samples_leaf': 17, 'l2_regularization': 1.9812318078540598}. Best is trial 83 with value: 0.7150961500692044.\n"
     ]
    },
    {
     "name": "stderr",
     "output_type": "stream",
     "text": [
      "Best trial: 83. Best value: 0.715096:  70%|██████▉   | 139/200 [16:50<06:57,  6.85s/it]"
     ]
    },
    {
     "name": "stdout",
     "output_type": "stream",
     "text": [
      "[I 2025-07-01 23:19:04,313] Trial 138 finished with value: 0.6769896799175054 and parameters: {'learning_rate': 0.009152515713466727, 'max_leaf_nodes': 157, 'max_depth': 3, 'min_samples_leaf': 21, 'l2_regularization': 0.7959333163272727}. Best is trial 83 with value: 0.7150961500692044.\n"
     ]
    },
    {
     "name": "stderr",
     "output_type": "stream",
     "text": [
      "Best trial: 83. Best value: 0.715096:  70%|███████   | 140/200 [16:54<06:14,  6.25s/it]"
     ]
    },
    {
     "name": "stdout",
     "output_type": "stream",
     "text": [
      "[I 2025-07-01 23:19:09,153] Trial 139 finished with value: 0.713775250294507 and parameters: {'learning_rate': 0.164055208665501, 'max_leaf_nodes': 240, 'max_depth': 4, 'min_samples_leaf': 14, 'l2_regularization': 1.9222944473793218}. Best is trial 83 with value: 0.7150961500692044.\n"
     ]
    },
    {
     "name": "stderr",
     "output_type": "stream",
     "text": [
      "Best trial: 83. Best value: 0.715096:  70%|███████   | 141/200 [17:03<06:48,  6.93s/it]"
     ]
    },
    {
     "name": "stdout",
     "output_type": "stream",
     "text": [
      "[I 2025-07-01 23:19:17,673] Trial 140 finished with value: 0.7130940990641896 and parameters: {'learning_rate': 0.13447471986481496, 'max_leaf_nodes': 186, 'max_depth': 2, 'min_samples_leaf': 46, 'l2_regularization': 0.7190402045421411}. Best is trial 83 with value: 0.7150961500692044.\n"
     ]
    },
    {
     "name": "stderr",
     "output_type": "stream",
     "text": [
      "Best trial: 83. Best value: 0.715096:  71%|███████   | 142/200 [17:06<05:35,  5.78s/it]"
     ]
    },
    {
     "name": "stdout",
     "output_type": "stream",
     "text": [
      "[I 2025-07-01 23:19:20,765] Trial 141 finished with value: 0.7125867827579041 and parameters: {'learning_rate': 0.2756437997969623, 'max_leaf_nodes': 193, 'max_depth': 4, 'min_samples_leaf': 27, 'l2_regularization': 0.0577093573357397}. Best is trial 83 with value: 0.7150961500692044.\n"
     ]
    },
    {
     "name": "stderr",
     "output_type": "stream",
     "text": [
      "Best trial: 83. Best value: 0.715096:  72%|███████▏  | 143/200 [17:10<05:01,  5.28s/it]"
     ]
    },
    {
     "name": "stdout",
     "output_type": "stream",
     "text": [
      "[I 2025-07-01 23:19:24,887] Trial 142 finished with value: 0.712374333309549 and parameters: {'learning_rate': 0.20060403833169962, 'max_leaf_nodes': 167, 'max_depth': 5, 'min_samples_leaf': 33, 'l2_regularization': 1.7583849439906378}. Best is trial 83 with value: 0.7150961500692044.\n"
     ]
    },
    {
     "name": "stderr",
     "output_type": "stream",
     "text": [
      "Best trial: 83. Best value: 0.715096:  72%|███████▏  | 144/200 [17:13<04:18,  4.62s/it]"
     ]
    },
    {
     "name": "stdout",
     "output_type": "stream",
     "text": [
      "[I 2025-07-01 23:19:27,957] Trial 143 finished with value: 0.711950011017296 and parameters: {'learning_rate': 0.22647269101322068, 'max_leaf_nodes': 98, 'max_depth': 8, 'min_samples_leaf': 10, 'l2_regularization': 1.0636431286088026}. Best is trial 83 with value: 0.7150961500692044.\n"
     ]
    },
    {
     "name": "stderr",
     "output_type": "stream",
     "text": [
      "Best trial: 83. Best value: 0.715096:  72%|███████▎  | 145/200 [17:17<04:00,  4.37s/it]"
     ]
    },
    {
     "name": "stdout",
     "output_type": "stream",
     "text": [
      "[I 2025-07-01 23:19:31,755] Trial 144 finished with value: 0.7119965884697641 and parameters: {'learning_rate': 0.2530223406211242, 'max_leaf_nodes': 211, 'max_depth': 4, 'min_samples_leaf': 24, 'l2_regularization': 1.497640776708955}. Best is trial 83 with value: 0.7150961500692044.\n"
     ]
    },
    {
     "name": "stderr",
     "output_type": "stream",
     "text": [
      "Best trial: 83. Best value: 0.715096:  73%|███████▎  | 146/200 [17:25<04:48,  5.35s/it]"
     ]
    },
    {
     "name": "stdout",
     "output_type": "stream",
     "text": [
      "[I 2025-07-01 23:19:39,389] Trial 145 finished with value: 0.7135164882667473 and parameters: {'learning_rate': 0.11218276335261589, 'max_leaf_nodes': 189, 'max_depth': 4, 'min_samples_leaf': 37, 'l2_regularization': 0.8607521638261706}. Best is trial 83 with value: 0.7150961500692044.\n"
     ]
    },
    {
     "name": "stderr",
     "output_type": "stream",
     "text": [
      "Best trial: 83. Best value: 0.715096:  74%|███████▎  | 147/200 [17:31<04:55,  5.57s/it]"
     ]
    },
    {
     "name": "stdout",
     "output_type": "stream",
     "text": [
      "[I 2025-07-01 23:19:45,484] Trial 146 finished with value: 0.7138312514417401 and parameters: {'learning_rate': 0.17314876059516185, 'max_leaf_nodes': 225, 'max_depth': 3, 'min_samples_leaf': 19, 'l2_regularization': 0.12945153190859954}. Best is trial 83 with value: 0.7150961500692044.\n"
     ]
    },
    {
     "name": "stderr",
     "output_type": "stream",
     "text": [
      "Best trial: 83. Best value: 0.715096:  74%|███████▍  | 148/200 [17:36<04:46,  5.51s/it]"
     ]
    },
    {
     "name": "stdout",
     "output_type": "stream",
     "text": [
      "[I 2025-07-01 23:19:50,853] Trial 147 finished with value: 0.7126841333677847 and parameters: {'learning_rate': 0.1912092643528134, 'max_leaf_nodes': 180, 'max_depth': 3, 'min_samples_leaf': 29, 'l2_regularization': 0.6236072969001943}. Best is trial 83 with value: 0.7150961500692044.\n"
     ]
    },
    {
     "name": "stderr",
     "output_type": "stream",
     "text": [
      "Best trial: 83. Best value: 0.715096:  74%|███████▍  | 149/200 [17:39<03:57,  4.65s/it]"
     ]
    },
    {
     "name": "stdout",
     "output_type": "stream",
     "text": [
      "[I 2025-07-01 23:19:53,489] Trial 148 finished with value: 0.7107881501041255 and parameters: {'learning_rate': 0.28501809799410854, 'max_leaf_nodes': 124, 'max_depth': 5, 'min_samples_leaf': 14, 'l2_regularization': 0.027042934631351823}. Best is trial 83 with value: 0.7150961500692044.\n"
     ]
    },
    {
     "name": "stderr",
     "output_type": "stream",
     "text": [
      "Best trial: 83. Best value: 0.715096:  75%|███████▌  | 150/200 [17:44<04:05,  4.90s/it]"
     ]
    },
    {
     "name": "stdout",
     "output_type": "stream",
     "text": [
      "[I 2025-07-01 23:19:58,987] Trial 149 finished with value: 0.7130922191033455 and parameters: {'learning_rate': 0.2157837568234765, 'max_leaf_nodes': 197, 'max_depth': 3, 'min_samples_leaf': 23, 'l2_regularization': 0.808339291044023}. Best is trial 83 with value: 0.7150961500692044.\n"
     ]
    },
    {
     "name": "stderr",
     "output_type": "stream",
     "text": [
      "Best trial: 83. Best value: 0.715096:  76%|███████▌  | 151/200 [17:48<03:46,  4.62s/it]"
     ]
    },
    {
     "name": "stdout",
     "output_type": "stream",
     "text": [
      "[I 2025-07-01 23:20:02,941] Trial 150 finished with value: 0.7131562592422723 and parameters: {'learning_rate': 0.25908757203953575, 'max_leaf_nodes': 207, 'max_depth': 4, 'min_samples_leaf': 18, 'l2_regularization': 0.675462582706656}. Best is trial 83 with value: 0.7150961500692044.\n"
     ]
    },
    {
     "name": "stderr",
     "output_type": "stream",
     "text": [
      "Best trial: 83. Best value: 0.715096:  76%|███████▌  | 152/200 [17:55<04:20,  5.42s/it]"
     ]
    },
    {
     "name": "stdout",
     "output_type": "stream",
     "text": [
      "[I 2025-07-01 23:20:10,230] Trial 151 finished with value: 0.7136970405659435 and parameters: {'learning_rate': 0.2585362950825885, 'max_leaf_nodes': 198, 'max_depth': 2, 'min_samples_leaf': 119, 'l2_regularization': 0.17216769340625068}. Best is trial 83 with value: 0.7150961500692044.\n"
     ]
    },
    {
     "name": "stderr",
     "output_type": "stream",
     "text": [
      "Best trial: 83. Best value: 0.715096:  76%|███████▋  | 153/200 [18:02<04:25,  5.64s/it]"
     ]
    },
    {
     "name": "stdout",
     "output_type": "stream",
     "text": [
      "[I 2025-07-01 23:20:16,400] Trial 152 finished with value: 0.7137763775242668 and parameters: {'learning_rate': 0.2903831913340866, 'max_leaf_nodes': 215, 'max_depth': 2, 'min_samples_leaf': 107, 'l2_regularization': 0.09607703561298772}. Best is trial 83 with value: 0.7150961500692044.\n"
     ]
    },
    {
     "name": "stderr",
     "output_type": "stream",
     "text": [
      "Best trial: 83. Best value: 0.715096:  77%|███████▋  | 154/200 [18:09<04:50,  6.31s/it]"
     ]
    },
    {
     "name": "stdout",
     "output_type": "stream",
     "text": [
      "[I 2025-07-01 23:20:24,259] Trial 153 finished with value: 0.714294165362863 and parameters: {'learning_rate': 0.23075062953436018, 'max_leaf_nodes': 201, 'max_depth': 2, 'min_samples_leaf': 14, 'l2_regularization': 0.18189046205298853}. Best is trial 83 with value: 0.7150961500692044.\n"
     ]
    },
    {
     "name": "stderr",
     "output_type": "stream",
     "text": [
      "Best trial: 83. Best value: 0.715096:  78%|███████▊  | 155/200 [18:17<04:54,  6.54s/it]"
     ]
    },
    {
     "name": "stdout",
     "output_type": "stream",
     "text": [
      "[I 2025-07-01 23:20:31,348] Trial 154 finished with value: 0.7147564004103077 and parameters: {'learning_rate': 0.2313857560321505, 'max_leaf_nodes': 231, 'max_depth': 2, 'min_samples_leaf': 12, 'l2_regularization': 0.267085397085461}. Best is trial 83 with value: 0.7150961500692044.\n"
     ]
    },
    {
     "name": "stderr",
     "output_type": "stream",
     "text": [
      "Best trial: 83. Best value: 0.715096:  78%|███████▊  | 156/200 [18:24<04:58,  6.77s/it]"
     ]
    },
    {
     "name": "stdout",
     "output_type": "stream",
     "text": [
      "[I 2025-07-01 23:20:38,664] Trial 155 finished with value: 0.7137182818972021 and parameters: {'learning_rate': 0.23791438597928685, 'max_leaf_nodes': 233, 'max_depth': 2, 'min_samples_leaf': 13, 'l2_regularization': 0.2895890271733212}. Best is trial 83 with value: 0.7150961500692044.\n"
     ]
    },
    {
     "name": "stderr",
     "output_type": "stream",
     "text": [
      "Best trial: 83. Best value: 0.715096:  78%|███████▊  | 157/200 [18:31<04:54,  6.85s/it]"
     ]
    },
    {
     "name": "stdout",
     "output_type": "stream",
     "text": [
      "[I 2025-07-01 23:20:45,689] Trial 156 finished with value: 0.7128112794532433 and parameters: {'learning_rate': 0.19486734914105835, 'max_leaf_nodes': 229, 'max_depth': 2, 'min_samples_leaf': 74, 'l2_regularization': 1.3787955946607684}. Best is trial 83 with value: 0.7150961500692044.\n"
     ]
    },
    {
     "name": "stderr",
     "output_type": "stream",
     "text": [
      "Best trial: 83. Best value: 0.715096:  79%|███████▉  | 158/200 [18:40<05:11,  7.42s/it]"
     ]
    },
    {
     "name": "stdout",
     "output_type": "stream",
     "text": [
      "[I 2025-07-01 23:20:54,447] Trial 157 finished with value: 0.676569701237316 and parameters: {'learning_rate': 0.01476679343537514, 'max_leaf_nodes': 252, 'max_depth': 2, 'min_samples_leaf': 18, 'l2_regularization': 0.26978110664263577}. Best is trial 83 with value: 0.7150961500692044.\n"
     ]
    },
    {
     "name": "stderr",
     "output_type": "stream",
     "text": [
      "Best trial: 83. Best value: 0.715096:  80%|███████▉  | 159/200 [18:47<05:03,  7.41s/it]"
     ]
    },
    {
     "name": "stdout",
     "output_type": "stream",
     "text": [
      "[I 2025-07-01 23:21:01,841] Trial 158 finished with value: 0.7144951385691106 and parameters: {'learning_rate': 0.22013985526467972, 'max_leaf_nodes': 222, 'max_depth': 2, 'min_samples_leaf': 10, 'l2_regularization': 0.31089662927555145}. Best is trial 83 with value: 0.7150961500692044.\n"
     ]
    },
    {
     "name": "stderr",
     "output_type": "stream",
     "text": [
      "Best trial: 83. Best value: 0.715096:  80%|████████  | 160/200 [18:55<04:58,  7.46s/it]"
     ]
    },
    {
     "name": "stdout",
     "output_type": "stream",
     "text": [
      "[I 2025-07-01 23:21:09,398] Trial 159 finished with value: 0.7127036478322019 and parameters: {'learning_rate': 0.1558921330511713, 'max_leaf_nodes': 204, 'max_depth': 2, 'min_samples_leaf': 12, 'l2_regularization': 0.3254255370818808}. Best is trial 83 with value: 0.7150961500692044.\n"
     ]
    },
    {
     "name": "stderr",
     "output_type": "stream",
     "text": [
      "Best trial: 83. Best value: 0.715096:  80%|████████  | 161/200 [19:02<04:51,  7.48s/it]"
     ]
    },
    {
     "name": "stdout",
     "output_type": "stream",
     "text": [
      "[I 2025-07-01 23:21:16,921] Trial 160 finished with value: 0.7147956251294263 and parameters: {'learning_rate': 0.212472087564291, 'max_leaf_nodes': 221, 'max_depth': 2, 'min_samples_leaf': 15, 'l2_regularization': 0.4013620693120745}. Best is trial 83 with value: 0.7150961500692044.\n"
     ]
    },
    {
     "name": "stderr",
     "output_type": "stream",
     "text": [
      "Best trial: 83. Best value: 0.715096:  81%|████████  | 162/200 [19:09<04:35,  7.24s/it]"
     ]
    },
    {
     "name": "stdout",
     "output_type": "stream",
     "text": [
      "[I 2025-07-01 23:21:23,606] Trial 161 finished with value: 0.714504065956868 and parameters: {'learning_rate': 0.22515798850585925, 'max_leaf_nodes': 217, 'max_depth': 2, 'min_samples_leaf': 10, 'l2_regularization': 0.3772719434041586}. Best is trial 83 with value: 0.7150961500692044.\n"
     ]
    },
    {
     "name": "stderr",
     "output_type": "stream",
     "text": [
      "Best trial: 83. Best value: 0.715096:  82%|████████▏ | 163/200 [19:16<04:24,  7.15s/it]"
     ]
    },
    {
     "name": "stdout",
     "output_type": "stream",
     "text": [
      "[I 2025-07-01 23:21:30,559] Trial 162 finished with value: 0.7141286342618323 and parameters: {'learning_rate': 0.21147072706920542, 'max_leaf_nodes': 220, 'max_depth': 2, 'min_samples_leaf': 10, 'l2_regularization': 0.3857231525555431}. Best is trial 83 with value: 0.7150961500692044.\n"
     ]
    },
    {
     "name": "stderr",
     "output_type": "stream",
     "text": [
      "Best trial: 83. Best value: 0.715096:  82%|████████▏ | 164/200 [19:23<04:18,  7.18s/it]"
     ]
    },
    {
     "name": "stdout",
     "output_type": "stream",
     "text": [
      "[I 2025-07-01 23:21:37,798] Trial 163 finished with value: 0.7141543817835365 and parameters: {'learning_rate': 0.21827875632170635, 'max_leaf_nodes': 220, 'max_depth': 2, 'min_samples_leaf': 10, 'l2_regularization': 0.4576993936210094}. Best is trial 83 with value: 0.7150961500692044.\n"
     ]
    },
    {
     "name": "stderr",
     "output_type": "stream",
     "text": [
      "Best trial: 83. Best value: 0.715096:  82%|████████▎ | 165/200 [19:29<04:02,  6.94s/it]"
     ]
    },
    {
     "name": "stdout",
     "output_type": "stream",
     "text": [
      "[I 2025-07-01 23:21:44,187] Trial 164 finished with value: 0.713559346776089 and parameters: {'learning_rate': 0.21668063230071088, 'max_leaf_nodes': 217, 'max_depth': 2, 'min_samples_leaf': 10, 'l2_regularization': 0.45143427869936203}. Best is trial 83 with value: 0.7150961500692044.\n"
     ]
    },
    {
     "name": "stderr",
     "output_type": "stream",
     "text": [
      "Best trial: 83. Best value: 0.715096:  83%|████████▎ | 166/200 [19:36<03:56,  6.95s/it]"
     ]
    },
    {
     "name": "stdout",
     "output_type": "stream",
     "text": [
      "[I 2025-07-01 23:21:51,170] Trial 165 finished with value: 0.7132100137864583 and parameters: {'learning_rate': 0.18235919637896475, 'max_leaf_nodes': 223, 'max_depth': 2, 'min_samples_leaf': 10, 'l2_regularization': 0.3995314198653063}. Best is trial 83 with value: 0.7150961500692044.\n"
     ]
    },
    {
     "name": "stderr",
     "output_type": "stream",
     "text": [
      "Best trial: 83. Best value: 0.715096:  84%|████████▎ | 167/200 [19:43<03:48,  6.92s/it]"
     ]
    },
    {
     "name": "stdout",
     "output_type": "stream",
     "text": [
      "[I 2025-07-01 23:21:58,013] Trial 166 finished with value: 0.7135860923686338 and parameters: {'learning_rate': 0.23041074155382202, 'max_leaf_nodes': 221, 'max_depth': 2, 'min_samples_leaf': 14, 'l2_regularization': 0.22329974746385423}. Best is trial 83 with value: 0.7150961500692044.\n"
     ]
    },
    {
     "name": "stderr",
     "output_type": "stream",
     "text": [
      "Best trial: 83. Best value: 0.715096:  84%|████████▍ | 168/200 [19:50<03:44,  7.02s/it]"
     ]
    },
    {
     "name": "stdout",
     "output_type": "stream",
     "text": [
      "[I 2025-07-01 23:22:05,255] Trial 167 finished with value: 0.7141001643096714 and parameters: {'learning_rate': 0.20613498687470475, 'max_leaf_nodes': 230, 'max_depth': 2, 'min_samples_leaf': 15, 'l2_regularization': 0.3729547450182624}. Best is trial 83 with value: 0.7150961500692044.\n"
     ]
    },
    {
     "name": "stderr",
     "output_type": "stream",
     "text": [
      "Best trial: 83. Best value: 0.715096:  84%|████████▍ | 169/200 [19:58<03:39,  7.08s/it]"
     ]
    },
    {
     "name": "stdout",
     "output_type": "stream",
     "text": [
      "[I 2025-07-01 23:22:12,477] Trial 168 finished with value: 0.7139278908818022 and parameters: {'learning_rate': 0.2056118416817269, 'max_leaf_nodes': 231, 'max_depth': 2, 'min_samples_leaf': 10, 'l2_regularization': 0.37025352542973194}. Best is trial 83 with value: 0.7150961500692044.\n"
     ]
    },
    {
     "name": "stderr",
     "output_type": "stream",
     "text": [
      "Best trial: 83. Best value: 0.715096:  85%|████████▌ | 170/200 [20:06<03:40,  7.36s/it]"
     ]
    },
    {
     "name": "stdout",
     "output_type": "stream",
     "text": [
      "[I 2025-07-01 23:22:20,509] Trial 169 finished with value: 0.7135711325965317 and parameters: {'learning_rate': 0.1764139620600419, 'max_leaf_nodes': 235, 'max_depth': 2, 'min_samples_leaf': 15, 'l2_regularization': 0.5120771084186408}. Best is trial 83 with value: 0.7150961500692044.\n"
     ]
    },
    {
     "name": "stderr",
     "output_type": "stream",
     "text": [
      "Best trial: 83. Best value: 0.715096:  86%|████████▌ | 171/200 [20:11<03:19,  6.87s/it]"
     ]
    },
    {
     "name": "stdout",
     "output_type": "stream",
     "text": [
      "[I 2025-07-01 23:22:26,238] Trial 170 finished with value: 0.7130914658994609 and parameters: {'learning_rate': 0.24394096791450923, 'max_leaf_nodes': 243, 'max_depth': 2, 'min_samples_leaf': 15, 'l2_regularization': 0.3337213110486063}. Best is trial 83 with value: 0.7150961500692044.\n"
     ]
    },
    {
     "name": "stderr",
     "output_type": "stream",
     "text": [
      "Best trial: 83. Best value: 0.715096:  86%|████████▌ | 172/200 [20:20<03:29,  7.49s/it]"
     ]
    },
    {
     "name": "stdout",
     "output_type": "stream",
     "text": [
      "[I 2025-07-01 23:22:35,160] Trial 171 finished with value: 0.6378869510840846 and parameters: {'learning_rate': 0.004015641913839095, 'max_leaf_nodes': 214, 'max_depth': 2, 'min_samples_leaf': 18, 'l2_regularization': 0.40437728129972583}. Best is trial 83 with value: 0.7150961500692044.\n"
     ]
    },
    {
     "name": "stderr",
     "output_type": "stream",
     "text": [
      "Best trial: 83. Best value: 0.715096:  86%|████████▋ | 173/200 [20:28<03:19,  7.39s/it]"
     ]
    },
    {
     "name": "stdout",
     "output_type": "stream",
     "text": [
      "[I 2025-07-01 23:22:42,315] Trial 172 finished with value: 0.7141443384933914 and parameters: {'learning_rate': 0.20860754824203206, 'max_leaf_nodes': 219, 'max_depth': 2, 'min_samples_leaf': 10, 'l2_regularization': 0.2984799140597014}. Best is trial 83 with value: 0.7150961500692044.\n"
     ]
    },
    {
     "name": "stderr",
     "output_type": "stream",
     "text": [
      "Best trial: 83. Best value: 0.715096:  87%|████████▋ | 174/200 [20:35<03:11,  7.37s/it]"
     ]
    },
    {
     "name": "stdout",
     "output_type": "stream",
     "text": [
      "[I 2025-07-01 23:22:49,649] Trial 173 finished with value: 0.7146247276646008 and parameters: {'learning_rate': 0.20465007038229518, 'max_leaf_nodes': 223, 'max_depth': 2, 'min_samples_leaf': 10, 'l2_regularization': 0.4633552133173255}. Best is trial 83 with value: 0.7150961500692044.\n"
     ]
    },
    {
     "name": "stderr",
     "output_type": "stream",
     "text": [
      "Best trial: 83. Best value: 0.715096:  88%|████████▊ | 175/200 [20:42<03:00,  7.21s/it]"
     ]
    },
    {
     "name": "stdout",
     "output_type": "stream",
     "text": [
      "[I 2025-07-01 23:22:56,490] Trial 174 finished with value: 0.7135906918465029 and parameters: {'learning_rate': 0.18977550315834524, 'max_leaf_nodes': 224, 'max_depth': 2, 'min_samples_leaf': 10, 'l2_regularization': 0.4801568338864959}. Best is trial 83 with value: 0.7150961500692044.\n"
     ]
    },
    {
     "name": "stderr",
     "output_type": "stream",
     "text": [
      "Best trial: 83. Best value: 0.715096:  88%|████████▊ | 176/200 [20:49<02:52,  7.18s/it]"
     ]
    },
    {
     "name": "stdout",
     "output_type": "stream",
     "text": [
      "[I 2025-07-01 23:23:03,589] Trial 175 finished with value: 0.7137536624914919 and parameters: {'learning_rate': 0.2312137465600088, 'max_leaf_nodes': 220, 'max_depth': 2, 'min_samples_leaf': 10, 'l2_regularization': 0.29989652919415777}. Best is trial 83 with value: 0.7150961500692044.\n"
     ]
    },
    {
     "name": "stderr",
     "output_type": "stream",
     "text": [
      "Best trial: 83. Best value: 0.715096:  88%|████████▊ | 177/200 [20:56<02:48,  7.32s/it]"
     ]
    },
    {
     "name": "stdout",
     "output_type": "stream",
     "text": [
      "[I 2025-07-01 23:23:11,250] Trial 176 finished with value: 0.7139805319731486 and parameters: {'learning_rate': 0.16581389680526398, 'max_leaf_nodes': 208, 'max_depth': 2, 'min_samples_leaf': 13, 'l2_regularization': 0.25272924322192303}. Best is trial 83 with value: 0.7150961500692044.\n"
     ]
    },
    {
     "name": "stderr",
     "output_type": "stream",
     "text": [
      "Best trial: 83. Best value: 0.715096:  89%|████████▉ | 178/200 [21:05<02:48,  7.66s/it]"
     ]
    },
    {
     "name": "stdout",
     "output_type": "stream",
     "text": [
      "[I 2025-07-01 23:23:19,691] Trial 177 finished with value: 0.7132382456859356 and parameters: {'learning_rate': 0.2091733867476512, 'max_leaf_nodes': 213, 'max_depth': 2, 'min_samples_leaf': 138, 'l2_regularization': 0.4326902290293874}. Best is trial 83 with value: 0.7150961500692044.\n"
     ]
    },
    {
     "name": "stderr",
     "output_type": "stream",
     "text": [
      "Best trial: 83. Best value: 0.715096:  90%|████████▉ | 179/200 [21:12<02:38,  7.56s/it]"
     ]
    },
    {
     "name": "stdout",
     "output_type": "stream",
     "text": [
      "[I 2025-07-01 23:23:27,023] Trial 178 finished with value: 0.714442029740694 and parameters: {'learning_rate': 0.25288770578261416, 'max_leaf_nodes': 226, 'max_depth': 2, 'min_samples_leaf': 20, 'l2_regularization': 0.30485752522664855}. Best is trial 83 with value: 0.7150961500692044.\n"
     ]
    },
    {
     "name": "stderr",
     "output_type": "stream",
     "text": [
      "Best trial: 83. Best value: 0.715096:  90%|█████████ | 180/200 [21:19<02:27,  7.40s/it]"
     ]
    },
    {
     "name": "stdout",
     "output_type": "stream",
     "text": [
      "[I 2025-07-01 23:23:34,033] Trial 179 finished with value: 0.7147292984061011 and parameters: {'learning_rate': 0.24380281390115555, 'max_leaf_nodes': 229, 'max_depth': 2, 'min_samples_leaf': 18, 'l2_regularization': 0.20215537218004137}. Best is trial 83 with value: 0.7150961500692044.\n"
     ]
    },
    {
     "name": "stderr",
     "output_type": "stream",
     "text": [
      "Best trial: 83. Best value: 0.715096:  90%|█████████ | 181/200 [21:25<02:10,  6.86s/it]"
     ]
    },
    {
     "name": "stdout",
     "output_type": "stream",
     "text": [
      "[I 2025-07-01 23:23:39,628] Trial 180 finished with value: 0.7132819922254433 and parameters: {'learning_rate': 0.256389003014765, 'max_leaf_nodes': 237, 'max_depth': 2, 'min_samples_leaf': 21, 'l2_regularization': 0.33594156587640983}. Best is trial 83 with value: 0.7150961500692044.\n"
     ]
    },
    {
     "name": "stderr",
     "output_type": "stream",
     "text": [
      "Best trial: 83. Best value: 0.715096:  91%|█████████ | 182/200 [21:30<01:56,  6.45s/it]"
     ]
    },
    {
     "name": "stdout",
     "output_type": "stream",
     "text": [
      "[I 2025-07-01 23:23:45,120] Trial 181 finished with value: 0.7143522238765133 and parameters: {'learning_rate': 0.29851103912872184, 'max_leaf_nodes': 226, 'max_depth': 2, 'min_samples_leaf': 18, 'l2_regularization': 0.19541861135871064}. Best is trial 83 with value: 0.7150961500692044.\n"
     ]
    },
    {
     "name": "stderr",
     "output_type": "stream",
     "text": [
      "Best trial: 83. Best value: 0.715096:  92%|█████████▏| 183/200 [21:35<01:42,  6.04s/it]"
     ]
    },
    {
     "name": "stdout",
     "output_type": "stream",
     "text": [
      "[I 2025-07-01 23:23:50,215] Trial 182 finished with value: 0.7143952406277224 and parameters: {'learning_rate': 0.29996707393800576, 'max_leaf_nodes': 225, 'max_depth': 2, 'min_samples_leaf': 18, 'l2_regularization': 0.20770296963054377}. Best is trial 83 with value: 0.7150961500692044.\n"
     ]
    },
    {
     "name": "stderr",
     "output_type": "stream",
     "text": [
      "Best trial: 83. Best value: 0.715096:  92%|█████████▏| 184/200 [21:41<01:33,  5.85s/it]"
     ]
    },
    {
     "name": "stdout",
     "output_type": "stream",
     "text": [
      "[I 2025-07-01 23:23:55,608] Trial 183 finished with value: 0.7136166343986121 and parameters: {'learning_rate': 0.2906115533889209, 'max_leaf_nodes': 227, 'max_depth': 2, 'min_samples_leaf': 20, 'l2_regularization': 0.15582109581458123}. Best is trial 83 with value: 0.7150961500692044.\n"
     ]
    },
    {
     "name": "stderr",
     "output_type": "stream",
     "text": [
      "Best trial: 83. Best value: 0.715096:  92%|█████████▎| 185/200 [21:47<01:31,  6.08s/it]"
     ]
    },
    {
     "name": "stdout",
     "output_type": "stream",
     "text": [
      "[I 2025-07-01 23:24:02,249] Trial 184 finished with value: 0.714174304799495 and parameters: {'learning_rate': 0.26769282267380456, 'max_leaf_nodes': 236, 'max_depth': 2, 'min_samples_leaf': 17, 'l2_regularization': 0.21184747615963098}. Best is trial 83 with value: 0.7150961500692044.\n"
     ]
    },
    {
     "name": "stderr",
     "output_type": "stream",
     "text": [
      "Best trial: 83. Best value: 0.715096:  93%|█████████▎| 186/200 [21:53<01:22,  5.89s/it]"
     ]
    },
    {
     "name": "stdout",
     "output_type": "stream",
     "text": [
      "[I 2025-07-01 23:24:07,669] Trial 185 finished with value: 0.7135601587293025 and parameters: {'learning_rate': 0.2964556429486013, 'max_leaf_nodes': 238, 'max_depth': 2, 'min_samples_leaf': 17, 'l2_regularization': 0.20151275186654893}. Best is trial 83 with value: 0.7150961500692044.\n"
     ]
    },
    {
     "name": "stderr",
     "output_type": "stream",
     "text": [
      "Best trial: 83. Best value: 0.715096:  94%|█████████▎| 187/200 [21:59<01:17,  5.98s/it]"
     ]
    },
    {
     "name": "stdout",
     "output_type": "stream",
     "text": [
      "[I 2025-07-01 23:24:13,881] Trial 186 finished with value: 0.713861655755388 and parameters: {'learning_rate': 0.2643936738420831, 'max_leaf_nodes': 230, 'max_depth': 2, 'min_samples_leaf': 22, 'l2_regularization': 0.23801738542593454}. Best is trial 83 with value: 0.7150961500692044.\n"
     ]
    },
    {
     "name": "stderr",
     "output_type": "stream",
     "text": [
      "Best trial: 83. Best value: 0.715096:  94%|█████████▍| 188/200 [22:05<01:09,  5.81s/it]"
     ]
    },
    {
     "name": "stdout",
     "output_type": "stream",
     "text": [
      "[I 2025-07-01 23:24:19,274] Trial 187 finished with value: 0.7149989156139471 and parameters: {'learning_rate': 0.29890650382290346, 'max_leaf_nodes': 246, 'max_depth': 2, 'min_samples_leaf': 17, 'l2_regularization': 0.19510466585575484}. Best is trial 83 with value: 0.7150961500692044.\n"
     ]
    },
    {
     "name": "stderr",
     "output_type": "stream",
     "text": [
      "Best trial: 83. Best value: 0.715096:  94%|█████████▍| 189/200 [22:11<01:05,  5.93s/it]"
     ]
    },
    {
     "name": "stdout",
     "output_type": "stream",
     "text": [
      "[I 2025-07-01 23:24:25,491] Trial 188 finished with value: 0.7127666813755303 and parameters: {'learning_rate': 0.24505649896160292, 'max_leaf_nodes': 247, 'max_depth': 2, 'min_samples_leaf': 21, 'l2_regularization': 0.16793990046147436}. Best is trial 83 with value: 0.7150961500692044.\n"
     ]
    },
    {
     "name": "stderr",
     "output_type": "stream",
     "text": [
      "Best trial: 83. Best value: 0.715096:  95%|█████████▌| 190/200 [22:17<00:58,  5.90s/it]"
     ]
    },
    {
     "name": "stdout",
     "output_type": "stream",
     "text": [
      "[I 2025-07-01 23:24:31,320] Trial 189 finished with value: 0.7129524765531634 and parameters: {'learning_rate': 0.2638131935915744, 'max_leaf_nodes': 228, 'max_depth': 2, 'min_samples_leaf': 25, 'l2_regularization': 0.2551031750266283}. Best is trial 83 with value: 0.7150961500692044.\n"
     ]
    },
    {
     "name": "stderr",
     "output_type": "stream",
     "text": [
      "Best trial: 83. Best value: 0.715096:  96%|█████████▌| 191/200 [22:23<00:53,  5.96s/it]"
     ]
    },
    {
     "name": "stdout",
     "output_type": "stream",
     "text": [
      "[I 2025-07-01 23:24:37,423] Trial 190 finished with value: 0.7145062154261552 and parameters: {'learning_rate': 0.23767522273014352, 'max_leaf_nodes': 245, 'max_depth': 2, 'min_samples_leaf': 16, 'l2_regularization': 0.12903539242120515}. Best is trial 83 with value: 0.7150961500692044.\n"
     ]
    },
    {
     "name": "stderr",
     "output_type": "stream",
     "text": [
      "Best trial: 83. Best value: 0.715096:  96%|█████████▌| 192/200 [22:29<00:48,  6.12s/it]"
     ]
    },
    {
     "name": "stdout",
     "output_type": "stream",
     "text": [
      "[I 2025-07-01 23:24:43,907] Trial 191 finished with value: 0.7141622035026189 and parameters: {'learning_rate': 0.23503065904517043, 'max_leaf_nodes': 243, 'max_depth': 2, 'min_samples_leaf': 16, 'l2_regularization': 0.1919614744674526}. Best is trial 83 with value: 0.7150961500692044.\n"
     ]
    },
    {
     "name": "stderr",
     "output_type": "stream",
     "text": [
      "Best trial: 83. Best value: 0.715096:  96%|█████████▋| 193/200 [22:34<00:41,  5.88s/it]"
     ]
    },
    {
     "name": "stdout",
     "output_type": "stream",
     "text": [
      "[I 2025-07-01 23:24:49,226] Trial 192 finished with value: 0.7135460215820507 and parameters: {'learning_rate': 0.2982988445283785, 'max_leaf_nodes': 255, 'max_depth': 2, 'min_samples_leaf': 15, 'l2_regularization': 0.12710817321383439}. Best is trial 83 with value: 0.7150961500692044.\n"
     ]
    },
    {
     "name": "stderr",
     "output_type": "stream",
     "text": [
      "Best trial: 83. Best value: 0.715096:  97%|█████████▋| 194/200 [22:43<00:40,  6.67s/it]"
     ]
    },
    {
     "name": "stdout",
     "output_type": "stream",
     "text": [
      "[I 2025-07-01 23:24:57,746] Trial 193 finished with value: 0.7042391971433128 and parameters: {'learning_rate': 0.04565248088977135, 'max_leaf_nodes': 225, 'max_depth': 2, 'min_samples_leaf': 19, 'l2_regularization': 0.29473800749773993}. Best is trial 83 with value: 0.7150961500692044.\n"
     ]
    },
    {
     "name": "stderr",
     "output_type": "stream",
     "text": [
      "Best trial: 83. Best value: 0.715096:  98%|█████████▊| 195/200 [22:50<00:33,  6.67s/it]"
     ]
    },
    {
     "name": "stdout",
     "output_type": "stream",
     "text": [
      "[I 2025-07-01 23:25:04,395] Trial 194 finished with value: 0.7139136650090188 and parameters: {'learning_rate': 0.24154250386945764, 'max_leaf_nodes': 247, 'max_depth': 2, 'min_samples_leaf': 24, 'l2_regularization': 0.10194815047416961}. Best is trial 83 with value: 0.7150961500692044.\n"
     ]
    },
    {
     "name": "stderr",
     "output_type": "stream",
     "text": [
      "Best trial: 83. Best value: 0.715096:  98%|█████████▊| 196/200 [22:55<00:25,  6.32s/it]"
     ]
    },
    {
     "name": "stdout",
     "output_type": "stream",
     "text": [
      "[I 2025-07-01 23:25:09,909] Trial 195 finished with value: 0.7129617273353872 and parameters: {'learning_rate': 0.2632569085514667, 'max_leaf_nodes': 241, 'max_depth': 2, 'min_samples_leaf': 63, 'l2_regularization': 0.21237224463029852}. Best is trial 83 with value: 0.7150961500692044.\n"
     ]
    },
    {
     "name": "stderr",
     "output_type": "stream",
     "text": [
      "Best trial: 83. Best value: 0.715096:  98%|█████████▊| 197/200 [23:03<00:20,  6.82s/it]"
     ]
    },
    {
     "name": "stdout",
     "output_type": "stream",
     "text": [
      "[I 2025-07-01 23:25:17,890] Trial 196 finished with value: 0.7123244505968721 and parameters: {'learning_rate': 0.18776977395099737, 'max_leaf_nodes': 233, 'max_depth': 2, 'min_samples_leaf': 158, 'l2_regularization': 0.2656425034370375}. Best is trial 83 with value: 0.7150961500692044.\n"
     ]
    },
    {
     "name": "stderr",
     "output_type": "stream",
     "text": [
      "Best trial: 83. Best value: 0.715096:  99%|█████████▉| 198/200 [23:09<00:12,  6.42s/it]"
     ]
    },
    {
     "name": "stdout",
     "output_type": "stream",
     "text": [
      "[I 2025-07-01 23:25:23,398] Trial 197 finished with value: 0.7145414122643354 and parameters: {'learning_rate': 0.2936212790427443, 'max_leaf_nodes': 212, 'max_depth': 2, 'min_samples_leaf': 14, 'l2_regularization': 0.17221140860313136}. Best is trial 83 with value: 0.7150961500692044.\n"
     ]
    },
    {
     "name": "stderr",
     "output_type": "stream",
     "text": [
      "Best trial: 83. Best value: 0.715096: 100%|█████████▉| 199/200 [23:14<00:06,  6.21s/it]"
     ]
    },
    {
     "name": "stdout",
     "output_type": "stream",
     "text": [
      "[I 2025-07-01 23:25:29,108] Trial 198 finished with value: 0.7137878697082003 and parameters: {'learning_rate': 0.29125824306515063, 'max_leaf_nodes': 225, 'max_depth': 2, 'min_samples_leaf': 19, 'l2_regularization': 0.15709345342339706}. Best is trial 83 with value: 0.7150961500692044.\n"
     ]
    },
    {
     "name": "stderr",
     "output_type": "stream",
     "text": [
      "Best trial: 83. Best value: 0.715096: 100%|██████████| 200/200 [23:19<00:00,  7.00s/it]"
     ]
    },
    {
     "name": "stdout",
     "output_type": "stream",
     "text": [
      "[I 2025-07-01 23:25:34,210] Trial 199 finished with value: 0.7138021786527855 and parameters: {'learning_rate': 0.2999169143043232, 'max_leaf_nodes': 234, 'max_depth': 2, 'min_samples_leaf': 14, 'l2_regularization': 0.3266899842526562}. Best is trial 83 with value: 0.7150961500692044.\n"
     ]
    },
    {
     "name": "stderr",
     "output_type": "stream",
     "text": [
      "\n"
     ]
    },
    {
     "data": {
      "text/html": [
       "<div>\n",
       "<style scoped>\n",
       "    .dataframe tbody tr th:only-of-type {\n",
       "        vertical-align: middle;\n",
       "    }\n",
       "\n",
       "    .dataframe tbody tr th {\n",
       "        vertical-align: top;\n",
       "    }\n",
       "\n",
       "    .dataframe thead th {\n",
       "        text-align: right;\n",
       "    }\n",
       "</style>\n",
       "<table border=\"1\" class=\"dataframe\">\n",
       "  <thead>\n",
       "    <tr style=\"text-align: right;\">\n",
       "      <th></th>\n",
       "      <th>F1 Score</th>\n",
       "      <th>learning_rate</th>\n",
       "      <th>max_leaf_nodes</th>\n",
       "      <th>max_depth</th>\n",
       "      <th>min_samples_leaf</th>\n",
       "      <th>l2_regularization</th>\n",
       "    </tr>\n",
       "  </thead>\n",
       "  <tbody>\n",
       "    <tr>\n",
       "      <th>0</th>\n",
       "      <td>0.7151</td>\n",
       "      <td>0.1400</td>\n",
       "      <td>160</td>\n",
       "      <td>4</td>\n",
       "      <td>16</td>\n",
       "      <td>0.3132</td>\n",
       "    </tr>\n",
       "    <tr>\n",
       "      <th>1</th>\n",
       "      <td>0.7151</td>\n",
       "      <td>0.2356</td>\n",
       "      <td>186</td>\n",
       "      <td>4</td>\n",
       "      <td>10</td>\n",
       "      <td>0.8610</td>\n",
       "    </tr>\n",
       "    <tr>\n",
       "      <th>2</th>\n",
       "      <td>0.7150</td>\n",
       "      <td>0.2989</td>\n",
       "      <td>246</td>\n",
       "      <td>2</td>\n",
       "      <td>17</td>\n",
       "      <td>0.1951</td>\n",
       "    </tr>\n",
       "    <tr>\n",
       "      <th>3</th>\n",
       "      <td>0.7148</td>\n",
       "      <td>0.2125</td>\n",
       "      <td>221</td>\n",
       "      <td>2</td>\n",
       "      <td>15</td>\n",
       "      <td>0.4014</td>\n",
       "    </tr>\n",
       "    <tr>\n",
       "      <th>4</th>\n",
       "      <td>0.7148</td>\n",
       "      <td>0.2314</td>\n",
       "      <td>231</td>\n",
       "      <td>2</td>\n",
       "      <td>12</td>\n",
       "      <td>0.2671</td>\n",
       "    </tr>\n",
       "  </tbody>\n",
       "</table>\n",
       "</div>"
      ],
      "text/plain": [
       "   F1 Score  learning_rate  max_leaf_nodes  max_depth  min_samples_leaf  \\\n",
       "0    0.7151         0.1400             160          4                16   \n",
       "1    0.7151         0.2356             186          4                10   \n",
       "2    0.7150         0.2989             246          2                17   \n",
       "3    0.7148         0.2125             221          2                15   \n",
       "4    0.7148         0.2314             231          2                12   \n",
       "\n",
       "   l2_regularization  \n",
       "0             0.3132  \n",
       "1             0.8610  \n",
       "2             0.1951  \n",
       "3             0.4014  \n",
       "4             0.2671  "
      ]
     },
     "metadata": {},
     "output_type": "display_data"
    }
   ],
   "source": [
    "# Your code here\n",
    "\n",
    "def objective(trial):\n",
    "    params = {\n",
    "        \"learning_rate\": trial.suggest_float(\"learning_rate\", 1e-3, 0.3, log=True),\n",
    "        \"max_leaf_nodes\": trial.suggest_int(\"max_leaf_nodes\", 16, 256),\n",
    "        \"max_depth\": trial.suggest_int(\"max_depth\", 2, 10),\n",
    "        \"min_samples_leaf\": trial.suggest_int(\"min_samples_leaf\", 10, 200),\n",
    "        \"l2_regularization\": trial.suggest_float(\"l2_regularization\", 0.0, 2.0)\n",
    "    }\n",
    "\n",
    "    model = HistGradientBoostingClassifier(\n",
    "        learning_rate=params[\"learning_rate\"],\n",
    "        max_leaf_nodes=params[\"max_leaf_nodes\"],\n",
    "        max_depth=params[\"max_depth\"],\n",
    "        min_samples_leaf=params[\"min_samples_leaf\"],\n",
    "        l2_regularization=params[\"l2_regularization\"],\n",
    "        max_bins=255,\n",
    "        max_iter=500,\n",
    "        early_stopping=True,\n",
    "        n_iter_no_change=20,\n",
    "        validation_fraction=0.2,\n",
    "        tol=1e-7,\n",
    "        class_weight=\"balanced\",\n",
    "        random_state=random_seed,\n",
    "        verbose=0\n",
    "    )\n",
    "\n",
    "    pipeline = Pipeline([\n",
    "        (\"prep\", preprocess),\n",
    "        (\"gb\", model)\n",
    "    ])\n",
    "\n",
    "    cv = StratifiedKFold(n_splits=5, shuffle=True, random_state=random_seed)\n",
    "    scores = cross_val_score(pipeline, X, y, cv=cv, scoring=\"f1\")\n",
    "\n",
    "    return np.mean(scores)\n",
    "\n",
    "study = optuna.create_study(direction=\"maximize\", sampler=optuna.samplers.TPESampler(seed=random_seed))\n",
    "study.optimize(objective, n_trials=200, show_progress_bar=True)\n",
    "\n",
    "top5 = sorted(study.trials, key=lambda t: t.value, reverse=True)[:5]\n",
    "top5_df = pd.DataFrame([{\n",
    "    \"F1 Score\": t.value,\n",
    "    \"learning_rate\": t.params[\"learning_rate\"],\n",
    "    \"max_leaf_nodes\": t.params[\"max_leaf_nodes\"],\n",
    "    \"max_depth\": t.params[\"max_depth\"],\n",
    "    \"min_samples_leaf\": t.params[\"min_samples_leaf\"],\n",
    "    \"l2_regularization\": t.params[\"l2_regularization\"]\n",
    "} for t in top5])\n",
    "\n",
    "display(top5_df.round(4))\n"
   ]
  },
  {
   "cell_type": "code",
   "execution_count": null,
   "metadata": {},
   "outputs": [
    {
     "data": {
      "text/plain": [
       "np.float64(0.7150961500692044)"
      ]
     },
     "execution_count": 36,
     "metadata": {},
     "output_type": "execute_result"
    }
   ],
   "source": []
  },
  {
   "cell_type": "markdown",
   "metadata": {},
   "source": [
    "### Problem 3 Graded Answer\n",
    "\n",
    "Set `a3` to the mean F1 score of the best model found. "
   ]
  },
  {
   "cell_type": "code",
   "execution_count": 37,
   "metadata": {},
   "outputs": [],
   "source": [
    " # Your answer here\n",
    "\n",
    "a3 = top5_df[\"F1 Score\"][0]                     # replace 0 with your answer, may copy from the displayed results"
   ]
  },
  {
   "cell_type": "code",
   "execution_count": 38,
   "metadata": {},
   "outputs": [
    {
     "name": "stdout",
     "output_type": "stream",
     "text": [
      "a3 = 0.7151\n"
     ]
    }
   ],
   "source": [
    "# DO NOT change this cell in any way\n",
    "\n",
    "print(f'a3 = {a3:.4f}')"
   ]
  },
  {
   "cell_type": "markdown",
   "metadata": {},
   "source": [
    "## Problem 4: Final Model Evaluation on Test Set\n",
    "\n",
    "In this problem, you will take the best hyperparameter configuration you found in your earlier experiments (Randomized Search or Optuna) and fully evaluate the resulting model on the test set.\n",
    "\n",
    "**Background:**\n",
    "When performing hyperparameter tuning, we typically optimize for a single metric (e.g., F1). However, before deployment, it is essential to check **all relevant metrics** on the final test set to understand the model’s behavior in a balanced way.\n",
    "\n",
    "**Instructions:**\n",
    "\n",
    "1. Take the best hyperparameters you found in Problems 2 or 3 and apply them to your `pipelined_model`.\n",
    "2. Re-train this final tuned model on the **entire training set** (not just the folds).\n",
    "3. Evaluate the final model on the heldout **test set**, reporting the following metrics:\n",
    "\n",
    "   * Precision\n",
    "   * Recall\n",
    "   * F1 score\n",
    "   * Balanced accuracy\n",
    "4. Use `classification_report` **on the test set** to print precision, recall, and F1 score, and use `balanced_accuracy_score` separately to calculate and print balanced accuracy.\n",
    "5. Answer the graded questions.\n",
    "\n",
    "**Note:** We evaluate the metrics on the test set because it was never seen during training or hyperparameter tuning. This gives us an unbiased estimate of how the model will perform on truly unseen data. Evaluating on the training set would be misleading, because the model has already learned from that data and could appear artificially good.\n"
   ]
  },
  {
   "cell_type": "code",
   "execution_count": 42,
   "metadata": {},
   "outputs": [
    {
     "data": {
      "text/plain": [
       "{'gb__l2_regularization': np.float64(1.4954375477948278),\n",
       " 'gb__learning_rate': np.float64(0.2295485371853974),\n",
       " 'gb__max_depth': 2,\n",
       " 'gb__max_leaf_nodes': 61,\n",
       " 'gb__min_samples_leaf': 190}"
      ]
     },
     "execution_count": 42,
     "metadata": {},
     "output_type": "execute_result"
    }
   ],
   "source": [
    "best_params = search.best_params_\n",
    "best_params"
   ]
  },
  {
   "cell_type": "code",
   "execution_count": 58,
   "metadata": {},
   "outputs": [
    {
     "name": "stdout",
     "output_type": "stream",
     "text": [
      "Classification Report:\n",
      "              precision    recall  f1-score   support\n",
      "\n",
      "           0     0.9523    0.8217    0.8822      7431\n",
      "           1     0.6053    0.8691    0.7136      2338\n",
      "\n",
      "    accuracy                         0.8330      9769\n",
      "   macro avg     0.7788    0.8454    0.7979      9769\n",
      "weighted avg     0.8692    0.8330    0.8418      9769\n",
      "\n",
      "Balanced Accuracy: 0.8454\n"
     ]
    }
   ],
   "source": [
    "# Your code here\n",
    "\n",
    "best_params = search.best_params_\n",
    "\n",
    "# Step 1: Construct the final model using best hyperparameters\n",
    "final_model = HistGradientBoostingClassifier(\n",
    "    learning_rate=best_params[\"gb__learning_rate\"],\n",
    "    max_leaf_nodes=best_params[\"gb__max_leaf_nodes\"],\n",
    "    max_depth=best_params[\"gb__max_depth\"],\n",
    "    min_samples_leaf=best_params[\"gb__min_samples_leaf\"],\n",
    "    l2_regularization=best_params[\"gb__l2_regularization\"],\n",
    "    max_bins=255,\n",
    "    max_iter=500,\n",
    "    early_stopping=True,\n",
    "    n_iter_no_change=20,\n",
    "    validation_fraction=0.2,\n",
    "    tol=1e-7,\n",
    "    class_weight=\"balanced\",\n",
    "    random_state=random_seed,\n",
    "    verbose=0\n",
    ")\n",
    "\n",
    "# Step 2: Rebuild full pipeline with final model\n",
    "final_pipeline = Pipeline([\n",
    "    (\"prep\", preprocess),\n",
    "    (\"gb\", final_model)\n",
    "])\n",
    "\n",
    "# Step 3: Retrain on full training set\n",
    "final_pipeline.fit(X_train, y_train)\n",
    "\n",
    "# Step 4: Evaluate on the test set\n",
    "y_pred = final_pipeline.predict(X_test)\n",
    "\n",
    "# Report classification metrics\n",
    "print(\"Classification Report:\")\n",
    "print(classification_report(y_test, y_pred, digits=4))\n",
    "\n",
    "classif = classification_report(y_test, y_pred, digits=4, output_dict=True)\n",
    "\n",
    "# Report balanced accuracy\n",
    "bal_acc = balanced_accuracy_score(y_test, y_pred)\n",
    "print(f\"Balanced Accuracy: {bal_acc:.4f}\")\n"
   ]
  },
  {
   "cell_type": "markdown",
   "metadata": {},
   "source": [
    "### Problem 4 Graded Questions\n",
    "\n",
    "- Set `a4a` to the balanced accuracy score of the best model.\n",
    "- Set `a4b` to the macro average precision of this model.\n",
    "- Set `a4c` to the macro average recall score of the this model.\n",
    "\n",
    "**Note:** Macro average takes the mean of each class’s precision/recall without considering how many samples each class has, which is appropriate for a balanced evaluation."
   ]
  },
  {
   "cell_type": "code",
   "execution_count": 52,
   "metadata": {},
   "outputs": [],
   "source": [
    " # Your answer here\n",
    "\n",
    "a4a = bal_acc                     # replace 0 with your answer, use variable or expression from above"
   ]
  },
  {
   "cell_type": "code",
   "execution_count": 53,
   "metadata": {},
   "outputs": [
    {
     "name": "stdout",
     "output_type": "stream",
     "text": [
      "a4a = 0.8454\n"
     ]
    }
   ],
   "source": [
    "# DO NOT change this cell in any way\n",
    "\n",
    "print(f'a4a = {a4a:.4f}')"
   ]
  },
  {
   "cell_type": "code",
   "execution_count": 54,
   "metadata": {},
   "outputs": [],
   "source": [
    " # Your answer here\n",
    "\n",
    "a4b = classif[\"macro avg\"][\"precision\"]                     # replace 0 with your answer, may copy from the displayed results"
   ]
  },
  {
   "cell_type": "code",
   "execution_count": 55,
   "metadata": {},
   "outputs": [
    {
     "name": "stdout",
     "output_type": "stream",
     "text": [
      "a4b = 0.7788\n"
     ]
    }
   ],
   "source": [
    "# DO NOT change this cell in any way\n",
    "\n",
    "print(f'a4b = {a4b:.4f}')"
   ]
  },
  {
   "cell_type": "code",
   "execution_count": 56,
   "metadata": {},
   "outputs": [],
   "source": [
    " # Your answer here\n",
    "\n",
    "a4c = classif[\"macro avg\"][\"recall\"]                     # replace 0 with your answer, may copy from the displayed results"
   ]
  },
  {
   "cell_type": "code",
   "execution_count": 57,
   "metadata": {},
   "outputs": [
    {
     "name": "stdout",
     "output_type": "stream",
     "text": [
      "a4c = 0.8454\n"
     ]
    }
   ],
   "source": [
    "# DO NOT change this cell in any way\n",
    "\n",
    "print(f'a4c = {a4c:.4f}')"
   ]
  },
  {
   "cell_type": "markdown",
   "metadata": {},
   "source": [
    "## Problem 5: Understanding Precision, Recall, F1, and Balanced Accuracy\n",
    "\n",
    "**Tutorial**\n",
    "\n",
    "In binary classification, you will often evaluate these key metrics:\n",
    "\n",
    "* **Precision**: *Of all the positive predictions the model made, how many were actually correct?*\n",
    "\n",
    "  * High precision = few false positives\n",
    "  * Low precision = many false positives\n",
    "\n",
    "* **Recall**: *Of all the actual positive cases, how many did the model correctly identify?*\n",
    "\n",
    "  * High recall = few false negatives\n",
    "  * Low recall = many false negatives\n",
    "\n",
    "* **F1 score**: The harmonic mean of precision and recall, which balances them in a single measure.\n",
    "\n",
    "  * F1 is **highest** when precision and recall are both high and similar in value.\n",
    "  * If precision and recall are unbalanced, F1 will drop to reflect that imbalance.\n",
    "\n",
    "* **Balanced accuracy**: The average of recall across both classes (positive and negative).\n",
    "\n",
    "  * It ensures the classifier is performing reasonably well on *both* groups, correcting for class imbalance.\n",
    "  * Balanced accuracy is especially important if the classes are very unequal in size.\n",
    "\n",
    "**Typical trade-offs to remember:**\n",
    "\n",
    "* **Higher recall, lower precision**: the model finds most true positives but also mislabels some negatives as positives\n",
    "* **Higher precision, lower recall**: the model is strict about positive predictions, but misses some true positives\n",
    "* **Balanced precision and recall (good F1)**: a practical compromise\n",
    "* **Balanced accuracy**: checks fairness across both classes"
   ]
  },
  {
   "cell_type": "markdown",
   "metadata": {},
   "source": [
    "###  Problem 5 Graded Question (multiple choice)\n",
    "\n",
    "A bank uses your model to identify customers earning over $50K for a premium product invitation. Based on your final test set evaluation, including macro-averaged precision and recall, which of the following best describes what might happen?\n",
    "\n",
    "(1) The bank will miss some eligible high-income customers, but will avoid marketing mistakes by sending invitations only to those it is  confident about.\n",
    "\n",
    "(2) The bank will successfully reach most high-income customers, but will also waste resources sending invitations to some low-income customers.\n",
    "\n",
    "(3) The bank will perfectly identify all high-income and low-income customers, resulting in no wasted invitations and no missed opportunities.\n"
   ]
  },
  {
   "cell_type": "code",
   "execution_count": 59,
   "metadata": {},
   "outputs": [],
   "source": [
    " # Your answer here\n",
    "\n",
    "a5 = 2                     # replace 0 with one of 1, 2, or 3"
   ]
  },
  {
   "cell_type": "code",
   "execution_count": 60,
   "metadata": {},
   "outputs": [
    {
     "name": "stdout",
     "output_type": "stream",
     "text": [
      "a5 = 2\n"
     ]
    }
   ],
   "source": [
    "# DO NOT change this cell in any way\n",
    "\n",
    "print(f'a5 = {a5}')"
   ]
  },
  {
   "cell_type": "markdown",
   "metadata": {},
   "source": [
    "### Appendix One: Feature Engineering\n",
    "\n",
    "Here are some practical feature-engineering tweaks worth considering (beyond simply ordinal-encoding the categoricals)\n",
    "\n",
    "| Feature(s)                                                           | Why the tweak can help                                                                                                                                                     | How to do it (quick version)                                                                                                                                                    | Keep / drop?      |\n",
    "| -------------------------------------------------------------------- | -------------------------------------------------------------------------------------------------------------------------------------------------------------------------- | ------------------------------------------------------------------------------------------------------------------------------------------------------------------------------- | ----------------- |\n",
    "| **`fnlwgt`**                                                         | Survey sampling weight, not a predictor. Leaving it in often lets the model “cheat.”                                                                                       | `df = df.drop(columns=[\"fnlwgt\"])`                                                                                                                                              | **Drop**          |\n",
    "| **`education` *vs.* `education-num`**                                | They encode the **same** information twice (categorical label and its ordinal rank). Keeping both is redundant and can cause leakage of a perfectly predictive feature.    | Usually keep **only one**. For tree models `education-num` is simplest: `df = df.drop(columns=[\"education\"])`                                                                   | **Drop one**      |\n",
    "| **`capital-gain`, `capital-loss`**                                   | Highly skewed; most values are zero with a long upper tail. The sign (gain vs. loss) matters, but treating them separately wastes a feature slot.                          | 1) Combine: `df[\"capital_net\"] = df[\"capital-gain\"] - df[\"capital-loss\"]`; 2) Log-transform to reduce skew: `df[\"capital_net_log\"] = np.log1p(df[\"capital_net\"].clip(lower=0))` | Replace originals |\n",
    "| **`age`, `hours-per-week`**                                          | Continuous but with natural plateaus—trees handle splits fine, yet log or square-root scaling can soften extreme values; bucketing makes partial-dependence plots clearer. | Simple bucket: `df[\"age_bin\"] = pd.cut(df[\"age\"], bins=[16,25,35,45,55,65,90])` (optional)                                                                                      | Optional          |\n",
    "| **Missing categories** (`workclass`, `occupation`, `native-country`) | HGB handles `-1`/`-2` codes fine, but you may want *explicit* “Missing” bucket for interpretability.                                                                       | Use `encoded_missing_value=-2` during encoding.                                                                                                            | Keep as is        |\n",
    "| **Rare categories in `native-country`**                              | Hundreds of low-frequency countries dilute signal; grouping boosts stability.                                                                                              | Map infrequent categories to “Other”:                                                                                                                                           |                   |\n",
    "\n",
    "\n",
    "#### Minimum set of tweaks (good baseline, low effort)\n",
    "\n",
    "1. **Drop `fnlwgt`.**  \n",
    "2. **Keep `education-num`, drop `education`.**  \n",
    "3. **Combine `capital-gain` and `capital-loss` into `capital_net`** (optionally add a log-scaled version).  \n",
    "4. Leave other numeric/categorical features as is; your histogram-GBDT will cope.\n",
    "\n",
    "\n"
   ]
  }
 ],
 "metadata": {
  "kernelspec": {
   "display_name": "Python 3",
   "language": "python",
   "name": "python3"
  },
  "language_info": {
   "codemirror_mode": {
    "name": "ipython",
    "version": 3
   },
   "file_extension": ".py",
   "mimetype": "text/x-python",
   "name": "python",
   "nbconvert_exporter": "python",
   "pygments_lexer": "ipython3",
   "version": "3.12.1"
  }
 },
 "nbformat": 4,
 "nbformat_minor": 4
}
